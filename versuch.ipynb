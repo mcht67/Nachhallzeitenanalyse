{
 "cells": [
  {
   "cell_type": "code",
   "execution_count": 1,
   "metadata": {},
   "outputs": [],
   "source": [
    "import numpy as np\n",
    "import csv\n"
   ]
  },
  {
   "cell_type": "code",
   "execution_count": 9,
   "metadata": {},
   "outputs": [],
   "source": [
    "dict_db = csv.DictReader(open('Datenbank_Absorptionsgrade.csv'))\n",
    "dict_obj = next(dict_db)"
   ]
  },
  {
   "cell_type": "code",
   "execution_count": 2,
   "metadata": {},
   "outputs": [],
   "source": [
    "import csv\n",
    "with open('Datenbank_Absorptionsgrade.csv', 'r', ) as file:\n",
    "    reader = csv.reader(file, delimiter=';')\n",
    "    header = next(reader)\n",
    "    dict_db2 = {}\n",
    "    for row in reader:\n",
    "        key = row[0]\n",
    "        values = row[1:]\n",
    "        dict_db2[key] = [float(v) for v in values]\n"
   ]
  },
  {
   "cell_type": "code",
   "execution_count": 3,
   "metadata": {},
   "outputs": [
    {
     "ename": "Error",
     "evalue": "unknown dialect",
     "output_type": "error",
     "traceback": [
      "\u001b[1;31m---------------------------------------------------------------------------\u001b[0m",
      "\u001b[1;31mError\u001b[0m                                     Traceback (most recent call last)",
      "Cell \u001b[1;32mIn[3], line 1\u001b[0m\n\u001b[1;32m----> 1\u001b[0m csv\u001b[39m.\u001b[39;49mget_dialect(reader)\n",
      "\u001b[1;31mError\u001b[0m: unknown dialect"
     ]
    }
   ],
   "source": [
    "csv.get_dialect(reader)"
   ]
  },
  {
   "cell_type": "code",
   "execution_count": 17,
   "metadata": {},
   "outputs": [
    {
     "data": {
      "text/plain": [
       "{'Walls,hard surfaces average (brick walls, plaster, hard floors, etc.)': ['0.02',\n",
       "  '0.02',\n",
       "  '0.03',\n",
       "  '0.03',\n",
       "  '0.04',\n",
       "  '0.05'],\n",
       " 'Rough concrete': ['0.02', '0.03', '0.03', '0.03', '0.04', '0.07'],\n",
       " 'Smooth unpainted concrete': ['0.01', '0.01', '0.02', '0.02', '0.02', '0.05'],\n",
       " 'Ceramic tiles with a smooth surface': ['0.01',\n",
       "  '0.01',\n",
       "  '0.01',\n",
       "  '0.02',\n",
       "  '0.02',\n",
       "  '0.02'],\n",
       " 'Concrete floor': ['0.01', '0.03', '0.05', '0.02', '0.02', '0.02'],\n",
       " 'Marble floor': ['0.01', '0.01', '0.01', '0.02', '0.02', '0.02'],\n",
       " 'Wooden lining, 12 mm fixed on frame': ['0.27',\n",
       "  '0.23',\n",
       "  '0.22',\n",
       "  '0.15',\n",
       "  '0.10',\n",
       "  '0.07'],\n",
       " 'Single pane of glass, 3 mm': ['0.08',\n",
       "  '0.04',\n",
       "  '0.03',\n",
       "  '0.03',\n",
       "  '0.02',\n",
       "  '0.02'],\n",
       " 'Glass window, 0.68 kg/m2': ['0.10', '0.05', '0.04', '0.03', '0.03', '0.03'],\n",
       " 'Double glazing, 2–3 mm glass,> 30 mm gap': ['0.15',\n",
       "  '0.05',\n",
       "  '0.03',\n",
       "  '0.03',\n",
       "  '0.02',\n",
       "  '0.02'],\n",
       " 'Double glazing, 2–3 mm glass, 10 mm gap': ['0.10',\n",
       "  '0.07',\n",
       "  '0.05',\n",
       "  '0.03',\n",
       "  '0.02',\n",
       "  '0.02'],\n",
       " 'Thin plywood panelling': ['0.42', '0.21', '0.10', '0.08', '0.06', '0.06'],\n",
       " 'Solid wooden door': ['0.14', '0.10', '0.06', '0.08', '0.10', '0.10'],\n",
       " 'Linoleum, asphalt, rubber, or cork tile on concrete': ['0.02',\n",
       "  '0.03',\n",
       "  '0.03',\n",
       "  '0.03',\n",
       "  '0.03',\n",
       "  '0.02'],\n",
       " 'Cotton carpet': ['0.07', '0.31', '0.49', '0.81', '0.66', '0.54'],\n",
       " 'Thin carpet, cemented to concrete': ['0.02',\n",
       "  '0.04',\n",
       "  '0.08',\n",
       "  '0.20',\n",
       "  '0.35',\n",
       "  '0.40'],\n",
       " '10 mm soft carpet on concrete': ['0.09',\n",
       "  '0.08',\n",
       "  '0.21',\n",
       "  '0.26',\n",
       "  '0.27',\n",
       "  '0.37'],\n",
       " '5 mm rubber carpet on concrete': ['0.04',\n",
       "  '0.04',\n",
       "  '0.08',\n",
       "  '0.12',\n",
       "  '0.10',\n",
       "  '0.10'],\n",
       " 'Cotton curtains (0.5 kg/m2) draped to 3/4 area approx. 130 mm from wall': ['0.30',\n",
       "  '0.45',\n",
       "  '0.65',\n",
       "  '0.56',\n",
       "  '0.59',\n",
       "  '0.71'],\n",
       " 'Curtains (0.2 kg/m2) hung 90 mm from wall': ['0.05',\n",
       "  '0.06',\n",
       "  '0.39',\n",
       "  '0.63',\n",
       "  '0.70',\n",
       "  '0.73'],\n",
       " 'Cotton cloth (0.33 kg/m2) folded to 7/8 area': ['0.03',\n",
       "  '0.12',\n",
       "  '0.15',\n",
       "  '0.27',\n",
       "  '0.37',\n",
       "  '0.42'],\n",
       " 'Densely woven window curtains 90 mm from wall': ['0.06',\n",
       "  '0.10',\n",
       "  '0.38',\n",
       "  '0.63',\n",
       "  '0.70',\n",
       "  '0.73'],\n",
       " 'Vertical blinds, 15 cm from wall, half opened (45°)': ['0.03',\n",
       "  '0.09',\n",
       "  '0.24',\n",
       "  '0.46',\n",
       "  '0.79',\n",
       "  '0.76'],\n",
       " 'Vertical blinds, 15 cm from wall, open (90°)': ['0.03',\n",
       "  '0.06',\n",
       "  '0.13',\n",
       "  '0.28',\n",
       "  '0.49',\n",
       "  '0.56'],\n",
       " 'Tight velvet curtains': ['0.05', '0.12', '0.35', '0.45', '0.38', '0.36'],\n",
       " 'Curtain fabric, 15 cm from wall': ['0.10',\n",
       "  '0.38',\n",
       "  '0.63',\n",
       "  '0.52',\n",
       "  '0.55',\n",
       "  '0.65'],\n",
       " 'Curtain fabric, folded, 15 cm from wall': ['0.12',\n",
       "  '0.60',\n",
       "  '0.98',\n",
       "  '1.0',\n",
       "  '1.0',\n",
       "  '1.0']}"
      ]
     },
     "execution_count": 17,
     "metadata": {},
     "output_type": "execute_result"
    }
   ],
   "source": [
    "dict_db2"
   ]
  },
  {
   "cell_type": "code",
   "execution_count": 3,
   "metadata": {},
   "outputs": [
    {
     "ename": "ValueError",
     "evalue": "could not convert string to float: '.'",
     "output_type": "error",
     "traceback": [
      "\u001b[1;31m---------------------------------------------------------------------------\u001b[0m",
      "\u001b[1;31mValueError\u001b[0m                                Traceback (most recent call last)",
      "Cell \u001b[1;32mIn[3], line 2\u001b[0m\n\u001b[0;32m      1\u001b[0m value_add \u001b[39m=\u001b[39m \u001b[39m\"\u001b[39m\u001b[39m0.01, 0.02, 0.002, 0.003, 0.01, 0.2\u001b[39m\u001b[39m\"\u001b[39m\n\u001b[1;32m----> 2\u001b[0m [\u001b[39mfloat\u001b[39;49m(v) \u001b[39mfor\u001b[39;49;00m v \u001b[39min\u001b[39;49;00m value_add\u001b[39m.\u001b[39;49mstrip(\u001b[39m'\u001b[39;49m\u001b[39m,\u001b[39;49m\u001b[39m'\u001b[39;49m)]\n",
      "Cell \u001b[1;32mIn[3], line 2\u001b[0m, in \u001b[0;36m<listcomp>\u001b[1;34m(.0)\u001b[0m\n\u001b[0;32m      1\u001b[0m value_add \u001b[39m=\u001b[39m \u001b[39m\"\u001b[39m\u001b[39m0.01, 0.02, 0.002, 0.003, 0.01, 0.2\u001b[39m\u001b[39m\"\u001b[39m\n\u001b[1;32m----> 2\u001b[0m [\u001b[39mfloat\u001b[39;49m(v) \u001b[39mfor\u001b[39;00m v \u001b[39min\u001b[39;00m value_add\u001b[39m.\u001b[39mstrip(\u001b[39m'\u001b[39m\u001b[39m,\u001b[39m\u001b[39m'\u001b[39m)]\n",
      "\u001b[1;31mValueError\u001b[0m: could not convert string to float: '.'"
     ]
    }
   ],
   "source": [
    "value_add = \"0.01, 0.02, 0.002, 0.003, 0.01, 0.2\"\n",
    "[float(v) for v in str.split(value_add, sep = ',')]"
   ]
  }
 ],
 "metadata": {
  "kernelspec": {
   "display_name": "roomdev",
   "language": "python",
   "name": "python3"
  },
  "language_info": {
   "codemirror_mode": {
    "name": "ipython",
    "version": 3
   },
   "file_extension": ".py",
   "mimetype": "text/x-python",
   "name": "python",
   "nbconvert_exporter": "python",
   "pygments_lexer": "ipython3",
   "version": "3.11.3"
  },
  "orig_nbformat": 4
 },
 "nbformat": 4,
 "nbformat_minor": 2
}
