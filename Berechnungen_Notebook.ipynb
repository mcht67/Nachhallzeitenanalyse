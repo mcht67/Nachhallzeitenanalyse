{
 "cells": [
  {
   "cell_type": "code",
   "execution_count": 45,
   "metadata": {},
   "outputs": [
    {
     "name": "stdout",
     "output_type": "stream",
     "text": [
      "12.09\n"
     ]
    }
   ],
   "source": [
    "# 125 Hz\n",
    "\n",
    "mainWalls =  (20-5-4)*0.2 + (20-6-2)*0.1 + (10-5)*0.2 + 10*0.1 + 8*0.1 + (8-1-2-3)*0.1 \n",
    "subWalls = 5*0.15 + 4*0.36 + 6*0.16 + 2*0.12 + 5*0.13 + 1*.1 + 2*.2 + 3*.3 \n",
    "people = 1*0.15 + 2*0.05\n",
    "\n",
    "A = mainWalls + subWalls + people\n",
    "print(A)"
   ]
  },
  {
   "cell_type": "code",
   "execution_count": 55,
   "metadata": {},
   "outputs": [
    {
     "name": "stdout",
     "output_type": "stream",
     "text": [
      "11.459999999999999\n"
     ]
    }
   ],
   "source": [
    "# 250 Hz\n",
    "\n",
    "mainWalls =  (20-5-4)*0.1 + (20-6-2)*0.1 + (10-7)*0.1 + 10*0.1 + 8*0.1 + (8-1-2-3)*0.1 \n",
    "subWalls = 5*0.2 + 4*0.1 + 6*0.3 + 2*0.1 + 7*0.13 + 1*.1 + 2*.2 + 3*.3 \n",
    "people = 1*0.55 + 2*0.3\n",
    "\n",
    "A = mainWalls + subWalls + people\n",
    "print(A)"
   ]
  },
  {
   "cell_type": "code",
   "execution_count": 60,
   "metadata": {},
   "outputs": [
    {
     "name": "stdout",
     "output_type": "stream",
     "text": [
      "11.140000000000002\n"
     ]
    }
   ],
   "source": [
    "# 2 kHz\n",
    "\n",
    "mainWalls =  (20-5-4)*0.1 + (20-6-2)*0.04 + (10-7)*0.1 + 10*0.2 + 8*0.1 + (8-1-2-3)*0.1 \n",
    "subWalls = 5*0.2 + 4*0.1 + 6*0.2 + 2*0.1 + 7*0.13 + 1*.1 + 2*.2 + 3*.3 \n",
    "people = 1*0.55 + 2*0.3\n",
    "\n",
    "A = mainWalls + subWalls + people\n",
    "print(A)"
   ]
  },
  {
   "cell_type": "code",
   "execution_count": 70,
   "metadata": {},
   "outputs": [
    {
     "name": "stdout",
     "output_type": "stream",
     "text": [
      "{'125 Hz': 11.95, '250 Hz': 10.81, '500 Hz': 9.73, '1 kHz': 10.5, '2 kHz': 11.14, '4 kHz': 10.760000000000002}\n"
     ]
    },
    {
     "data": {
      "application/vnd.plotly.v1+json": {
       "config": {
        "plotlyServerURL": "https://plot.ly"
       },
       "data": [
        {
         "hoverinfo": "skip",
         "legendgroup": "boundaries",
         "marker": {
          "color": "green"
         },
         "mode": "lines",
         "name": "Grenzen",
         "type": "scatter",
         "x": [
          125,
          250,
          500,
          1000,
          2000,
          4000
         ],
         "y": [
          0.65,
          0.8,
          0.8,
          0.8,
          0.8,
          0.65
         ]
        },
        {
         "fill": "tonexty",
         "fillcolor": "rgba(26, 199, 93, 0.1)",
         "hoverinfo": "skip",
         "legendgroup": "boundaries",
         "marker": {
          "color": "green"
         },
         "mode": "lines",
         "showlegend": false,
         "type": "scatter",
         "x": [
          125,
          250,
          500,
          1000,
          2000,
          4000
         ],
         "y": [
          1.45,
          1.2,
          1.2,
          1.2,
          1.2,
          1.2
         ]
        },
        {
         "hovertemplate": "Oktavband: %{x} Hz<br>Nachhallzeitenvergleich: %{y:.2f}<extra></extra>",
         "marker": {
          "color": "rgba(28, 122, 255, 1)"
         },
         "name": "Nachhallzeitenvergleich",
         "type": "bar",
         "width": 0.2,
         "x": [
          125,
          250,
          500,
          1000,
          2000,
          4000
         ],
         "y": [
          1.1634664588992694,
          1.2861631992457234,
          1.4289233488022888,
          1.3241356365567876,
          1.2480632121944586,
          1.2921397940377572
         ]
        }
       ],
       "layout": {
        "height": 600,
        "hoverlabel": {
         "bgcolor": "rgba(28, 122, 255, .4)"
        },
        "template": {
         "data": {
          "candlestick": [
           {
            "decreasing": {
             "line": {
              "color": "#000033"
             }
            },
            "increasing": {
             "line": {
              "color": "#000032"
             }
            },
            "type": "candlestick"
           }
          ],
          "contour": [
           {
            "colorscale": [
             [
              0,
              "#000011"
             ],
             [
              0.1111111111111111,
              "#000012"
             ],
             [
              0.2222222222222222,
              "#000013"
             ],
             [
              0.3333333333333333,
              "#000014"
             ],
             [
              0.4444444444444444,
              "#000015"
             ],
             [
              0.5555555555555556,
              "#000016"
             ],
             [
              0.6666666666666666,
              "#000017"
             ],
             [
              0.7777777777777778,
              "#000018"
             ],
             [
              0.8888888888888888,
              "#000019"
             ],
             [
              1,
              "#000020"
             ]
            ],
            "type": "contour"
           }
          ],
          "contourcarpet": [
           {
            "colorscale": [
             [
              0,
              "#000011"
             ],
             [
              0.1111111111111111,
              "#000012"
             ],
             [
              0.2222222222222222,
              "#000013"
             ],
             [
              0.3333333333333333,
              "#000014"
             ],
             [
              0.4444444444444444,
              "#000015"
             ],
             [
              0.5555555555555556,
              "#000016"
             ],
             [
              0.6666666666666666,
              "#000017"
             ],
             [
              0.7777777777777778,
              "#000018"
             ],
             [
              0.8888888888888888,
              "#000019"
             ],
             [
              1,
              "#000020"
             ]
            ],
            "type": "contourcarpet"
           }
          ],
          "heatmap": [
           {
            "colorscale": [
             [
              0,
              "#000011"
             ],
             [
              0.1111111111111111,
              "#000012"
             ],
             [
              0.2222222222222222,
              "#000013"
             ],
             [
              0.3333333333333333,
              "#000014"
             ],
             [
              0.4444444444444444,
              "#000015"
             ],
             [
              0.5555555555555556,
              "#000016"
             ],
             [
              0.6666666666666666,
              "#000017"
             ],
             [
              0.7777777777777778,
              "#000018"
             ],
             [
              0.8888888888888888,
              "#000019"
             ],
             [
              1,
              "#000020"
             ]
            ],
            "type": "heatmap"
           }
          ],
          "histogram2d": [
           {
            "colorscale": [
             [
              0,
              "#000011"
             ],
             [
              0.1111111111111111,
              "#000012"
             ],
             [
              0.2222222222222222,
              "#000013"
             ],
             [
              0.3333333333333333,
              "#000014"
             ],
             [
              0.4444444444444444,
              "#000015"
             ],
             [
              0.5555555555555556,
              "#000016"
             ],
             [
              0.6666666666666666,
              "#000017"
             ],
             [
              0.7777777777777778,
              "#000018"
             ],
             [
              0.8888888888888888,
              "#000019"
             ],
             [
              1,
              "#000020"
             ]
            ],
            "type": "histogram2d"
           }
          ],
          "icicle": [
           {
            "textfont": {
             "color": "white"
            },
            "type": "icicle"
           }
          ],
          "sankey": [
           {
            "textfont": {
             "color": "#000036"
            },
            "type": "sankey"
           }
          ],
          "scatter": [
           {
            "marker": {
             "line": {
              "width": 0
             }
            },
            "type": "scatter"
           }
          ],
          "table": [
           {
            "cells": {
             "fill": {
              "color": "#000038"
             },
             "font": {
              "color": "#000037"
             },
             "line": {
              "color": "#000039"
             }
            },
            "header": {
             "fill": {
              "color": "#000040"
             },
             "font": {
              "color": "#000036"
             },
             "line": {
              "color": "#000039"
             }
            },
            "type": "table"
           }
          ],
          "waterfall": [
           {
            "connector": {
             "line": {
              "color": "#000036",
              "width": 2
             }
            },
            "decreasing": {
             "marker": {
              "color": "#000033"
             }
            },
            "increasing": {
             "marker": {
              "color": "#000032"
             }
            },
            "totals": {
             "marker": {
              "color": "#000034"
             }
            },
            "type": "waterfall"
           }
          ]
         },
         "layout": {
          "coloraxis": {
           "colorscale": [
            [
             0,
             "#000011"
            ],
            [
             0.1111111111111111,
             "#000012"
            ],
            [
             0.2222222222222222,
             "#000013"
            ],
            [
             0.3333333333333333,
             "#000014"
            ],
            [
             0.4444444444444444,
             "#000015"
            ],
            [
             0.5555555555555556,
             "#000016"
            ],
            [
             0.6666666666666666,
             "#000017"
            ],
            [
             0.7777777777777778,
             "#000018"
            ],
            [
             0.8888888888888888,
             "#000019"
            ],
            [
             1,
             "#000020"
            ]
           ]
          },
          "colorscale": {
           "diverging": [
            [
             0,
             "#000021"
            ],
            [
             0.1,
             "#000022"
            ],
            [
             0.2,
             "#000023"
            ],
            [
             0.3,
             "#000024"
            ],
            [
             0.4,
             "#000025"
            ],
            [
             0.5,
             "#000026"
            ],
            [
             0.6,
             "#000027"
            ],
            [
             0.7,
             "#000028"
            ],
            [
             0.8,
             "#000029"
            ],
            [
             0.9,
             "#000030"
            ],
            [
             1,
             "#000031"
            ]
           ],
           "sequential": [
            [
             0,
             "#000011"
            ],
            [
             0.1111111111111111,
             "#000012"
            ],
            [
             0.2222222222222222,
             "#000013"
            ],
            [
             0.3333333333333333,
             "#000014"
            ],
            [
             0.4444444444444444,
             "#000015"
            ],
            [
             0.5555555555555556,
             "#000016"
            ],
            [
             0.6666666666666666,
             "#000017"
            ],
            [
             0.7777777777777778,
             "#000018"
            ],
            [
             0.8888888888888888,
             "#000019"
            ],
            [
             1,
             "#000020"
            ]
           ],
           "sequentialminus": [
            [
             0,
             "#000011"
            ],
            [
             0.1111111111111111,
             "#000012"
            ],
            [
             0.2222222222222222,
             "#000013"
            ],
            [
             0.3333333333333333,
             "#000014"
            ],
            [
             0.4444444444444444,
             "#000015"
            ],
            [
             0.5555555555555556,
             "#000016"
            ],
            [
             0.6666666666666666,
             "#000017"
            ],
            [
             0.7777777777777778,
             "#000018"
            ],
            [
             0.8888888888888888,
             "#000019"
            ],
            [
             1,
             "#000020"
            ]
           ]
          },
          "colorway": [
           "#000001",
           "#000002",
           "#000003",
           "#000004",
           "#000005",
           "#000006",
           "#000007",
           "#000008",
           "#000009",
           "#000010"
          ]
         }
        },
        "width": 1000,
        "xaxis": {
         "title": {
          "text": "Frequenz [Hz]"
         },
         "type": "category"
        },
        "yaxis": {
         "title": {
          "text": "T / T_soll"
         }
        }
       }
      }
     },
     "metadata": {},
     "output_type": "display_data"
    }
   ],
   "source": [
    "import math \n",
    "import numpy as np\n",
    "import plotly.graph_objects as go\n",
    "from utils import basic_dict, basic_dict_2, read_db\n",
    "\n",
    "volume = 80 # Abschaetzung eines normal grossen Raumes\n",
    "\n",
    "\n",
    "surface = {'wall1': 20, 'wall2': 20, 'wall3': 10, 'wall4': 10, 'wall5': 8, 'wall6': 8} # Abschaetzung eines normal grossen Raumes\n",
    "\n",
    "alpha = {'125 Hz': [0.2, 0.1 ,0.2, 0.1, 0.1, 0.1, 0.1], \n",
    "        '250 Hz': [0.1, 0.1, 0.1, 0.1, 0.1, 0.1, 0.1], \n",
    "        '500 Hz': [0.02, 0.1, 0.2, 0.07, 0.1, 0.2, 0.1],\n",
    "        '1 kHz': [0.1, 0.1, 0.08, 0.1, 0.1, 0.1, 0.1], \n",
    "        '2 kHz': [0.1, 0.04, 0.1, 0.2, 0.1, 0.1], \n",
    "        '4 kHz': [0.1, 0.1, 0.1, 0.1, 0.1, 0.1, 0.1]\n",
    "        } \n",
    "\n",
    "sub_surface = {'wall1':[5, 4], 'wall2':[6, 2], 'wall3': [7], 'wall4': [], 'wall5': [], 'wall6': [1, 2, 3]}\n",
    "\n",
    "sub_alpha = {'125 Hz': {'wall1':[0.15, 0.36], 'wall2':[0.16, 0.12], 'wall3': [0.13], 'wall4': [], 'wall5': [], 'wall6': [0.1, 0.2, 0.3]},\n",
    "            '250 Hz': {'wall1':[0.2, 0.1], 'wall2':[0.3, 0.1], 'wall3': [0.13], 'wall4': [], 'wall5': [], 'wall6': [0.1, 0.2, 0.3]}, \n",
    "            '500 Hz': {'wall1':[0.2, 0.1], 'wall2':[0.2, 0.1], 'wall3': [0.13], 'wall4': [], 'wall5': [], 'wall6': [0.1, 0.2, 0.3]}, \n",
    "            '1 kHz' : {'wall1':[0.2, 0.1], 'wall2':[0.2, 0.1], 'wall3': [0.13], 'wall4': [], 'wall5': [], 'wall6': [0.1, 0.2, 0.3]},\n",
    "            '2 kHz':  {'wall1':[0.2, 0.1], 'wall2':[0.2, 0.1], 'wall3': [0.13], 'wall4': [], 'wall5': [], 'wall6': [0.1, 0.2, 0.3]},\n",
    "            '4 kHz':  {'wall1':[0.2, 0.1], 'wall2':[0.2, 0.1], 'wall3': [0.13], 'wall4': [], 'wall5': [], 'wall6': [0.1, 0.2, 0.3]}  \n",
    "            }       \n",
    "\n",
    "peopleDescription = ['Person sitzend auf ungepolsterter Bestuhlung', 'Kind in Vorschuleinrichtungen']\n",
    "\n",
    "numberOfPeople = [1, 2]\n",
    "\n",
    "use = 'Musik'\n",
    "\n",
    "class room: \n",
    "    '''Class inheriting all functions for calculations and making plots.'''\n",
    "\n",
    "    def __init__(self, volume, surface, sub_surface, alpha, sub_alpha, peopleDescription, numberOfPeople, use):\n",
    "        '''Function to initialize the class \"room\"'''\n",
    "        self.input = {'Volume': volume, 'Surface': surface, 'Absorption coefficient': alpha}\n",
    "        self.volume = volume\n",
    "        self.surface = surface\n",
    "        self.sub_surface = sub_surface\n",
    "        self.alpha = alpha\n",
    "        self.sub_alpha = sub_alpha\n",
    "        self.use = use\n",
    "        self.peopleDescription = peopleDescription\n",
    "        self.numberOfPeople = numberOfPeople\n",
    "        self.ErrorMessage = []\n",
    "\n",
    "    def criticalDistance(self):\n",
    "        '''\n",
    "        Function to calculate the critical distance, where the energy densities of the direct and reflected soundfield are equal. \n",
    "        Calculation is made with an approximate formula based on statistical acoustics in a diffuse soundfield.\n",
    "        '''\n",
    "        \n",
    "        criticalDistance = np.sqrt(self.equivalentAbsorptionSurface() / 50)\n",
    "\n",
    "        return criticalDistance\n",
    "        \n",
    "    def equivalentAbsorptionSurface_walls(self):\n",
    "        '''Function to calculate the equivalent absorption surface.'''\n",
    "\n",
    "        equivalentAbsorptionSurface = basic_dict()\n",
    "\n",
    "        wall_index = 0\n",
    "        # equivalent absorption surface for main walls \n",
    "        for octaveBands in self.alpha:\n",
    "            alphaList = self.alpha[octaveBands]\n",
    "\n",
    "            for walls in self.surface:\n",
    "                equivalentAbsorptionSurface[octaveBands] = equivalentAbsorptionSurface[octaveBands] + (self.surface[walls] - sum(self.sub_surface[walls])) * alphaList[wall_index]\n",
    "                wall_index = wall_index + 1\n",
    "            wall_index = 0\n",
    "\n",
    "        # adding equivalent absorption surface for sub walls\n",
    "        for octaveBands in self.sub_alpha.keys():\n",
    "            sub_alphaDict = self.sub_alpha[octaveBands]\n",
    "            for sub_walls in self.sub_surface.keys():\n",
    "                sub_alphaList = sub_alphaDict[sub_walls]\n",
    "                sub_surfaceList = self.sub_surface[sub_walls]\n",
    "                    \n",
    "                for sub_wall_index in range(len(sub_surfaceList)):\n",
    "                    equivalentAbsorptionSurface[octaveBands] = equivalentAbsorptionSurface[octaveBands] + sub_surfaceList[sub_wall_index] * sub_alphaList[sub_wall_index]\n",
    "\n",
    "        return equivalentAbsorptionSurface\n",
    "    \n",
    "    \n",
    "    def equivalentAbsorptionSurface_people(self):\n",
    "        '''\n",
    "        Function to add equivalent absorption surface based on the number of people in the room and their specification regarding age and position (e.g. standing, sitting).\n",
    "        Data retrieved from Table A.1 in DIN 18041\n",
    "        '''\n",
    "\n",
    "        equivalentAbsorptionSurface_people = basic_dict()\n",
    "\n",
    "        people_db = read_db('equivalentAbsorptionSurface_people_data.csv')\n",
    "        \n",
    "        for index in range(len(peopleDescription)):\n",
    "            equivalentAbsorptionSurface_people_list =  people_db[peopleDescription[index]]\n",
    "\n",
    "            for index_list, octaveBands in enumerate(equivalentAbsorptionSurface_people):\n",
    "                equivalentAbsorptionSurface_people[octaveBands] += numberOfPeople[index] * equivalentAbsorptionSurface_people_list[index_list]\n",
    "            \n",
    "        return equivalentAbsorptionSurface_people\n",
    "    \n",
    "    def equivalentAbsorptionSurface(self):\n",
    "        equivalentAbsorptionSurface = basic_dict_2()\n",
    "\n",
    "        for octaveBands in equivalentAbsorptionSurface:\n",
    "            equivalentAbsorptionSurface[octaveBands] = self.equivalentAbsorptionSurface_walls()[octaveBands] + self.equivalentAbsorptionSurface_people()[octaveBands]\n",
    "\n",
    "        return equivalentAbsorptionSurface\n",
    "   \n",
    "    def reverberationTime(self):\n",
    "        '''Function to calculate the reverberation time.'''\n",
    "\n",
    "        reverberationTimeSeconds = basic_dict()\n",
    "        equivalentAbsorptionSurface = self.equivalentAbsorptionSurface()\n",
    "        \n",
    "        for octavebands in equivalentAbsorptionSurface:\n",
    "            reverberationTimeSeconds[octavebands] = (self.volume / equivalentAbsorptionSurface[octavebands]) * 0.161\n",
    "\n",
    "        return reverberationTimeSeconds\n",
    "    \n",
    "    def reverberationTime_ratio(self):\n",
    "        '''Function to calculate the ratio of given reverberation time to wanted reverberation time. Wanted reverberation time is based on the rooms use case and its volume.'''\n",
    "\n",
    "        reverberationTime_ratio = basic_dict()\n",
    "        ReverberationTime_upperlimit = {'125 Hz':1.45 , '250 Hz':1.2 , '500 Hz':1.2 , '1 kHz':1.2, '2 kHz':1.2 , '4 kHz':1.2 }\n",
    "        ReverberationTime_lowerlimit = {'125 Hz':0.65 , '250 Hz':0.8 , '500 Hz':0.8 , '1 kHz':0.8, '2 kHz':0.8 , '4 kHz':0.65 }\n",
    "\n",
    "        # Calculation of the wanted reverberation time dependent on the use case given in DIN 18041 (and the volume in use case \"Sport\")\n",
    "        if self.use == 'Musik':\n",
    "            reverberationTime_wanted = 0.45 * math.log10(self.volume) + 0.07\n",
    "\n",
    "        elif self.use == 'Sprache/Vortrag':\n",
    "            reverberationTime_wanted = 0.37 * math.log10(self.volume) - 0.14\n",
    "\n",
    "        elif self.use == 'Sprache/Vortrag inklusiv':    \n",
    "            reverberationTime_wanted = 0.32 * math.log10(self.volume) - 0.17\n",
    "\n",
    "        elif self.use == 'Unterricht/Kommunikation':\n",
    "            reverberationTime_wanted = 0.32 * math.log10(self.volume) - 0.17\n",
    "\n",
    "        elif self.use == 'Unterricht/Kommunikation inklusiv':\n",
    "            reverberationTime_wanted = 0.26 * math.log10(self.volume) - 0.14\n",
    "\n",
    "        elif self.use == 'Sport':\n",
    "                if self.volume > 10000:        \n",
    "                    reverberationTime_wanted = 2\n",
    "                else:\n",
    "                    reverberationTime_wanted = 0.75 * math.log10(self.volume) - 1\n",
    "\n",
    "        # Calculation of the ratio of calculated reverberation time to wanted reverberation time from DIN 18041 \n",
    "        for octaveBands in self.reverberationTime():\n",
    "            reverberationTime_ratio[octaveBands] = self.reverberationTime()[octaveBands] / reverberationTime_wanted\n",
    "            if reverberationTime_ratio[octaveBands] > ReverberationTime_upperlimit[octaveBands]:\n",
    "                self.ErrorMessage.append(f'Nachhallzeit in Oktavband mit Mittenfrequenz {octaveBands} zu hoch')\n",
    "            elif reverberationTime_ratio[octaveBands] < ReverberationTime_lowerlimit[octaveBands]:\n",
    "                self.ErrorMessage.append(f'Nachhallzeit in Oktavband mit Mittenfrequenz {octaveBands} zu niedrig')\n",
    "\n",
    "        return reverberationTime_ratio, self.ErrorMessage\n",
    "    \n",
    "    def plot_reverberationTime(self):\n",
    "        '''Function, which returns a plot of the reverberation time in octave bands.'''\n",
    "\n",
    "        freq = np.array([125,250,500,1000,2000,4000])\n",
    "        reverberationTimeSeconds = self.reverberationTime() \n",
    "\n",
    "        fig = go.Figure()\n",
    "\n",
    "        trace1 = go.Bar(x = freq, \n",
    "                        y = list(reverberationTimeSeconds.values()), \n",
    "                        name = 'bar', \n",
    "                        marker_color = 'blue', \n",
    "                        showlegend= True, \n",
    "                        width=.2)\n",
    "        \n",
    "        fig.add_trace(trace1)\n",
    "\n",
    "        fig.update_layout(xaxis_title = 'Frequenz [Hz]', \n",
    "                          yaxis_title = 'Nachhallzeit [s]', \n",
    "                          width = 1000, \n",
    "                          height = 600)\n",
    "        \n",
    "        fig.update_xaxes(type='category')\n",
    "\n",
    "        return fig\n",
    "    \n",
    "    def plot_reverberationTime_ratio(self):\n",
    "        '''\n",
    "        Function, which returns a plot of the calculated reverberation time in comparison to the wanted reverberation time \n",
    "        and the allowed deviations in octave bands.'''\n",
    "        \n",
    "        frequencies = [125,250,500,1000,2000,4000]\n",
    "        \n",
    "        ReverberationTime_upperlimit = [1.45, 1.2, 1.2, 1.2, 1.2, 1.2]\n",
    "        ReverberationTime_lowerlimit = [0.65, 0.8, 0.8, 0.8, 0.8, 0.65]\n",
    "\n",
    "        reverberationTime_ratio = list(self.reverberationTime_ratio()[0].values())\n",
    "\n",
    "        fig = go.Figure()\n",
    "\n",
    "        trace1 = go.Scatter(x = frequencies, \n",
    "                            y = ReverberationTime_lowerlimit, \n",
    "                            name = 'Grenzen', \n",
    "                            marker_color = 'green', \n",
    "                            mode = 'lines', \n",
    "                            legendgroup = 'boundaries',\n",
    "                            hoverinfo = 'skip'\n",
    "                            )\n",
    "        \n",
    "        trace2 = go.Scatter(x = frequencies, \n",
    "                            y = ReverberationTime_upperlimit, \n",
    "                            marker_color = 'green', \n",
    "                            fill = 'tonexty', \n",
    "                            fillcolor = 'rgba(26, 199, 93, 0.1)',\n",
    "                            mode = 'lines',\n",
    "                            legendgroup = 'boundaries',\n",
    "                            showlegend = False,\n",
    "                            hoverinfo = 'skip',\n",
    "                            )\n",
    "        \n",
    "        trace3 = go.Bar(x = frequencies, \n",
    "                        y = reverberationTime_ratio, \n",
    "                        name = 'Nachhallzeitenvergleich',\n",
    "                        width = .2,\n",
    "                        marker_color = 'rgba(28, 122, 255, 1)',\n",
    "                        hovertemplate = 'Oktavband: %{x} Hz<br>Nachhallzeitenvergleich: %{y:.2f}<extra></extra>'\n",
    "                        )\n",
    "        \n",
    "        fig.update_xaxes(type = 'category')       \n",
    "\n",
    "        fig.update_layout(xaxis_title = 'Frequenz [Hz]',\n",
    "                          yaxis_title = 'T / T_soll', \n",
    "                          width = 1000, \n",
    "                          height = 600, \n",
    "                        #   legend={'traceorder':'normal'},\n",
    "                          hoverlabel = dict(bgcolor = 'rgba(28, 122, 255, .4)')\n",
    "                          )\n",
    "        \n",
    "        fig.add_trace(trace1)\n",
    "        fig.add_trace(trace2)\n",
    "        fig.add_trace(trace3)\n",
    "        \n",
    "        return fig\n",
    "\n",
    "room1 = room(volume , surface, sub_surface, alpha, sub_alpha, peopleDescription, numberOfPeople, use)\n",
    "\n",
    "A = room1.equivalentAbsorptionSurface()\n",
    "print(A)\n",
    "room1.plot_reverberationTime_ratio()\n",
    "# RT = room1.reverberationTime()\n",
    "# print(RT)\n"
   ]
  },
  {
   "cell_type": "code",
   "execution_count": 4,
   "metadata": {},
   "outputs": [],
   "source": [
    "def basic_dict():\n",
    "    dictionary = {'125 Hz':0 , '250 Hz':0 , '500 Hz':0 , '1 kHz':0, '2 kHz':0 , '4 kHz':0 }\n",
    "    return dictionary\n",
    "\n",
    "def sub_alpha_dict(key_list_surfaces):\n",
    "    sub_alpha = basic_dict()\n",
    "    for octaveBands in sub_alpha:\n",
    "        sub_alpha[octaveBands] = {}\n",
    "        for surface_key in key_list_surfaces:\n",
    "            sub_alpha[octaveBands][surface_key] = []\n",
    "\n",
    "    return sub_alpha"
   ]
  },
  {
   "cell_type": "code",
   "execution_count": 5,
   "metadata": {},
   "outputs": [
    {
     "data": {
      "text/plain": [
       "{'125 Hz': {'Wall1': [], 'Wall2': []},\n",
       " '250 Hz': {'Wall1': [], 'Wall2': []},\n",
       " '500 Hz': {'Wall1': [], 'Wall2': []},\n",
       " '1 kHz': {'Wall1': [], 'Wall2': []},\n",
       " '2 kHz': {'Wall1': [], 'Wall2': []},\n",
       " '4 kHz': {'Wall1': [], 'Wall2': []}}"
      ]
     },
     "execution_count": 5,
     "metadata": {},
     "output_type": "execute_result"
    }
   ],
   "source": [
    "sub_alpha_dict(['Wall1', 'Wall2'])"
   ]
  },
  {
   "cell_type": "code",
   "execution_count": 11,
   "metadata": {},
   "outputs": [],
   "source": [
    "import csv\n",
    "def read_db(filename):\n",
    "    with open(filename, 'r', encoding='utf-8') as file:\n",
    "        reader = csv.reader(file, delimiter=';')\n",
    "        header = next(reader)\n",
    "        dict_db2 = {}\n",
    "        dict_cat_mat = {}\n",
    "        for row in reader:\n",
    "            key = row[0]\n",
    "            print(key)\n",
    "            \n",
    "            try:\n",
    "                values = row[1:]\n",
    "                dict_db2[key] = [float(v) for v in values]\n",
    "            except:\n",
    "                categorie = row[2]\n",
    "                print(categorie)\n",
    "                values = row[2:]\n",
    "                dict_db2[key] = [float(v) for v in values]\n",
    "                dict_cat_mat[categorie] = dict_db2\n",
    "\n",
    "        file.close()\n",
    "    return dict_db2"
   ]
  },
  {
   "cell_type": "code",
   "execution_count": 12,
   "metadata": {},
   "outputs": [
    {
     "name": "stdout",
     "output_type": "stream",
     "text": [
      "Mauerziegelwand, unverputzt, Fugen ausgestrichen\n",
      "0.03\n",
      "Mauerwerk, Hohllochziegel, Löcher sichtbar, 60 mm vor Massivwand\n",
      "0.11\n",
      "Glattputz\n",
      "0.02\n",
      "Kalkzementputz\n",
      "0.03\n",
      "Tapete auf Kalkzementputz\n",
      "0.02\n",
      "Spiegel, vor der Wand\n",
      "0.12\n",
      "Tür, Holz, lackiert\n",
      "0.1\n",
      "Stuckgips, unverputzter Beton\n",
      "0.02\n",
      "Marmor, Fliesen, Klinker\n",
      "0.01\n",
      "Marmor, Fliesen, Klinker\n",
      "0.01\n",
      "Fenster (Isolierverglasung)\n",
      "0.28\n",
      "Parkettfußboden, aufgeklebt\n",
      "0.04\n",
      "Parkettfußboden, auf Blindboden\n",
      "0.2\n",
      "Parkettfußboden, hohlliegend\n",
      "0.15\n",
      "Teppichboden, bis 6 mm Florhöhe, auf massivem Untergrund\n",
      "0.02\n",
      "Teppichboden, 7 mm bis 10 mm Florhöhe, auf massivem Untergrund\n",
      "0.04\n",
      "Nadelfilz 7 mm, auf massivem Untergrund\n",
      "0.02\n",
      "Nadelfilz 7 mm, auf massivem Untergrund\n",
      "0.02\n",
      "5 mm Teppich mit 5 mm Filzunterlage, auf massivem Untergrund\n",
      "0.07\n",
      "PVC-Fußbodenbelag (2,5 mm) auf Betonboden\n",
      "0.01\n",
      "Linoleum auf Beton\n",
      "0.02\n",
      "Furnierte Holz- oder Spanplatte dicht vor festem Untergrund\n",
      "0.04\n",
      "4 mm Hartfaserplatte, kassettiert ohne Dämmstoff, Wandabstand 60 mm\n",
      "0.22\n",
      "4 mm Hartfaserplatte, kassettiert ohne Dämmstoff, Wandabstand 60 mm\n",
      "0.22\n",
      "4 mm Hartfaserplatte, kassettiert mit 40 mm Mineralwollplatte, Wandabstand 60 mm\n",
      "0.63\n",
      "4 mm Hartfaserplatte, kassettiert mit 40 mm Mineralwollplatte, Wandabstand 60 mm\n",
      "0.63\n",
      "4 mm Hartfaserplatte, kassettiert ohne Dämmstoff, Wandabstand 120 mm\n",
      "0.26\n",
      "4 mm Hartfaserplatte, kassettiert ohne Dämmstoff, Wandabstand 120 mm\n",
      "0.26\n",
      "4 mm Sperrholzplatte, 40 mm Mineralwolle, Wandabstand 120 mm\n",
      "0.77\n",
      "4 mm Sperrholzplatte, 40 mm Mineralwolle, Wandabstand 120 mm\n",
      "0.77\n",
      "Gipsplatte, 9,5 mm stark, Wandabstand 25 mm\n",
      "0.27\n",
      "Gipsplatte 9,5 mm stark, Wandabstand 60 mm, Hohlraum kassettiert\n",
      "0.30\n",
      "Kino-Bildwand\n",
      "0.10\n",
      "Bühnenöffnung mit Dekoration\n",
      "0.40\n",
      "Bücherregal in Bibliotheken (je m2 Oberfläche)\n",
      "0.30\n",
      "Lochsteine (vorsichtige Annahme)\n",
      "0.10\n",
      "15 mm Mineralplatte mit Vlieskaschierung, 200 mm zur Rohdecke, ohne rückseitige Zusatzmaßnahmen\n",
      "0.50\n",
      "15 mm Mineralplatte fein genadelt, 200 mm zur Rohdecke, ohne rückseitige Zusatzmaßnahmen\n",
      "0.35\n",
      "15 mm Mineralplatte ungenadelt, 200 mm zur Rohdecke, ohne rückseitige Zusatzmaßnahmen\n",
      "0.15\n",
      "gelochte Metallkassette, 16% Lochflächenanteil, 2,5 mm Lochdurchmesser, Akustikvlies, 200 mm zur Rohdecke, ohne rückseitige Zusatzmaßnahmen\n",
      "0.35\n",
      "20 mm Recycle-Glaswollplatte mit mikroporöser Farbeschichtung, 200 mm zur Rohdecke, 100 mm rückseitiger Tieftonabsorber\n",
      "0.75\n",
      "15 mm Recycle-Glaswollplatte, Vliesbeschichtung, 200 mm zur Rohdecke, ohne rückseitige Zusatz-maßnahmen\n",
      "0.40\n",
      "Spanndecke mikroperforiert, 100 mm Abstand bzw. Luftschicht, kein Akustikvlies im Hohlraum\n",
      "0.09\n",
      "Spanndecke mikroperforiert, 100 mm Abstand bzw. Luftschicht, 40 mm Akustikvlies direkt an Rückwand\n",
      "0.28\n",
      "Gipsplatten Rasterdecke 8/18 Rundlochung, 15,5 % Lochflächenanteil, 200 mm zur Rohdecke, Akustikvlies, ohne Mineralwollauflage\n",
      "0.45\n",
      "Gipsplatten Rasterdecke 8/18 Rundlochung, 15,5 % Lochflächenanteil, 200mm zur Rohdecke, Akustikvlies, 20 mm Mineralwollauflage\n",
      "0.50\n",
      "Gipsplatten Rasterdecke 12/25 Quadratlochung, 7,8 % Lochflächenanteil, 200 mm zur Rohdecke, Akustikvlies, 20 mm Mineralwollauflage\n",
      "0.45\n",
      "Gipsplatten Rasterdecke 12/25 Quadratlochung, 7,8 % Lochflächenanteil, 65 mm zur Rohdecke, Akustikvlies, 20 mm Mineralwollauflage\n",
      "0.40\n",
      "Holzwolle-Leichtbauplatten 35 mm , direkt auf Wand\n",
      "0.08\n",
      "Holzwolle-Leichtbauplatten 25 mm , Hohlraum leer, Wandabstand 50 mm\n",
      "0.13\n",
      "Melaminharz-Schaumstoff, Rohdichte 8 kg/m3 bis 10 kg/m3, 30 mm dick\n",
      "0.12\n",
      "Melaminharz-Schaumstoff, Rohdichte 8 kg/m3 bis 10 kg/m3, 50 mm dick\n",
      "0.16\n",
      "40 mm Mineralwollmatte (20 kg/m3), ohne Loch-blechabdeckung\n",
      "0.11\n",
      "40 mm Mineralwollmatte (20 kg/m3), mit Loch-blechabdeckung (18 %)\n",
      "0.11\n",
      "Gipsplatte 9,5 mm, 8/18 Rundlochung, 15% Loch-flächenanteil, mit Faservlies hinterlegt, Abstand 100 mm\n",
      "0.12\n",
      "Gipsplatte, geschlitzt, 8,8 % offene Fläche, mit Faservlies hinterlegt, Abstand 100 mm\n",
      "0.11\n",
      "gelochte Langfeld-Metallkassette, 20 % Lochflächen-anteil, 3 mm Lochdurchmesser, Akustikfilz, 300 mm Abstand\n",
      "0.38\n"
     ]
    }
   ],
   "source": [
    "dict_mat =  read_db('Datenbank_DIN18041.csv')"
   ]
  }
 ],
 "metadata": {
  "kernelspec": {
   "display_name": "base",
   "language": "python",
   "name": "python3"
  },
  "language_info": {
   "codemirror_mode": {
    "name": "ipython",
    "version": 3
   },
   "file_extension": ".py",
   "mimetype": "text/x-python",
   "name": "python",
   "nbconvert_exporter": "python",
   "pygments_lexer": "ipython3",
   "version": "3.11.3"
  },
  "orig_nbformat": 4
 },
 "nbformat": 4,
 "nbformat_minor": 2
}
