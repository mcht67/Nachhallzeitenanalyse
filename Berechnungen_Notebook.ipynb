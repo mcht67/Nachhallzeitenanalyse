{
 "cells": [
  {
   "cell_type": "code",
   "execution_count": 3,
   "metadata": {},
   "outputs": [
    {
     "data": {
      "application/vnd.plotly.v1+json": {
       "config": {
        "plotlyServerURL": "https://plot.ly"
       },
       "data": [
        {
         "marker": {
          "color": "blue"
         },
         "name": "bar",
         "showlegend": true,
         "type": "bar",
         "width": 0.2,
         "x": [
          125,
          250,
          500,
          1000,
          2000,
          4000
         ],
         "y": [
          0.6075471698113207,
          0.8473684210526317,
          0.8586666666666667,
          0.8702702702702704,
          0.8702702702702704,
          0.925287356321839
         ]
        }
       ],
       "layout": {
        "height": 600,
        "template": {
         "data": {
          "candlestick": [
           {
            "decreasing": {
             "line": {
              "color": "#000033"
             }
            },
            "increasing": {
             "line": {
              "color": "#000032"
             }
            },
            "type": "candlestick"
           }
          ],
          "contour": [
           {
            "colorscale": [
             [
              0,
              "#000011"
             ],
             [
              0.1111111111111111,
              "#000012"
             ],
             [
              0.2222222222222222,
              "#000013"
             ],
             [
              0.3333333333333333,
              "#000014"
             ],
             [
              0.4444444444444444,
              "#000015"
             ],
             [
              0.5555555555555556,
              "#000016"
             ],
             [
              0.6666666666666666,
              "#000017"
             ],
             [
              0.7777777777777778,
              "#000018"
             ],
             [
              0.8888888888888888,
              "#000019"
             ],
             [
              1,
              "#000020"
             ]
            ],
            "type": "contour"
           }
          ],
          "contourcarpet": [
           {
            "colorscale": [
             [
              0,
              "#000011"
             ],
             [
              0.1111111111111111,
              "#000012"
             ],
             [
              0.2222222222222222,
              "#000013"
             ],
             [
              0.3333333333333333,
              "#000014"
             ],
             [
              0.4444444444444444,
              "#000015"
             ],
             [
              0.5555555555555556,
              "#000016"
             ],
             [
              0.6666666666666666,
              "#000017"
             ],
             [
              0.7777777777777778,
              "#000018"
             ],
             [
              0.8888888888888888,
              "#000019"
             ],
             [
              1,
              "#000020"
             ]
            ],
            "type": "contourcarpet"
           }
          ],
          "heatmap": [
           {
            "colorscale": [
             [
              0,
              "#000011"
             ],
             [
              0.1111111111111111,
              "#000012"
             ],
             [
              0.2222222222222222,
              "#000013"
             ],
             [
              0.3333333333333333,
              "#000014"
             ],
             [
              0.4444444444444444,
              "#000015"
             ],
             [
              0.5555555555555556,
              "#000016"
             ],
             [
              0.6666666666666666,
              "#000017"
             ],
             [
              0.7777777777777778,
              "#000018"
             ],
             [
              0.8888888888888888,
              "#000019"
             ],
             [
              1,
              "#000020"
             ]
            ],
            "type": "heatmap"
           }
          ],
          "histogram2d": [
           {
            "colorscale": [
             [
              0,
              "#000011"
             ],
             [
              0.1111111111111111,
              "#000012"
             ],
             [
              0.2222222222222222,
              "#000013"
             ],
             [
              0.3333333333333333,
              "#000014"
             ],
             [
              0.4444444444444444,
              "#000015"
             ],
             [
              0.5555555555555556,
              "#000016"
             ],
             [
              0.6666666666666666,
              "#000017"
             ],
             [
              0.7777777777777778,
              "#000018"
             ],
             [
              0.8888888888888888,
              "#000019"
             ],
             [
              1,
              "#000020"
             ]
            ],
            "type": "histogram2d"
           }
          ],
          "icicle": [
           {
            "textfont": {
             "color": "white"
            },
            "type": "icicle"
           }
          ],
          "sankey": [
           {
            "textfont": {
             "color": "#000036"
            },
            "type": "sankey"
           }
          ],
          "scatter": [
           {
            "marker": {
             "line": {
              "width": 0
             }
            },
            "type": "scatter"
           }
          ],
          "table": [
           {
            "cells": {
             "fill": {
              "color": "#000038"
             },
             "font": {
              "color": "#000037"
             },
             "line": {
              "color": "#000039"
             }
            },
            "header": {
             "fill": {
              "color": "#000040"
             },
             "font": {
              "color": "#000036"
             },
             "line": {
              "color": "#000039"
             }
            },
            "type": "table"
           }
          ],
          "waterfall": [
           {
            "connector": {
             "line": {
              "color": "#000036",
              "width": 2
             }
            },
            "decreasing": {
             "marker": {
              "color": "#000033"
             }
            },
            "increasing": {
             "marker": {
              "color": "#000032"
             }
            },
            "totals": {
             "marker": {
              "color": "#000034"
             }
            },
            "type": "waterfall"
           }
          ]
         },
         "layout": {
          "coloraxis": {
           "colorscale": [
            [
             0,
             "#000011"
            ],
            [
             0.1111111111111111,
             "#000012"
            ],
            [
             0.2222222222222222,
             "#000013"
            ],
            [
             0.3333333333333333,
             "#000014"
            ],
            [
             0.4444444444444444,
             "#000015"
            ],
            [
             0.5555555555555556,
             "#000016"
            ],
            [
             0.6666666666666666,
             "#000017"
            ],
            [
             0.7777777777777778,
             "#000018"
            ],
            [
             0.8888888888888888,
             "#000019"
            ],
            [
             1,
             "#000020"
            ]
           ]
          },
          "colorscale": {
           "diverging": [
            [
             0,
             "#000021"
            ],
            [
             0.1,
             "#000022"
            ],
            [
             0.2,
             "#000023"
            ],
            [
             0.3,
             "#000024"
            ],
            [
             0.4,
             "#000025"
            ],
            [
             0.5,
             "#000026"
            ],
            [
             0.6,
             "#000027"
            ],
            [
             0.7,
             "#000028"
            ],
            [
             0.8,
             "#000029"
            ],
            [
             0.9,
             "#000030"
            ],
            [
             1,
             "#000031"
            ]
           ],
           "sequential": [
            [
             0,
             "#000011"
            ],
            [
             0.1111111111111111,
             "#000012"
            ],
            [
             0.2222222222222222,
             "#000013"
            ],
            [
             0.3333333333333333,
             "#000014"
            ],
            [
             0.4444444444444444,
             "#000015"
            ],
            [
             0.5555555555555556,
             "#000016"
            ],
            [
             0.6666666666666666,
             "#000017"
            ],
            [
             0.7777777777777778,
             "#000018"
            ],
            [
             0.8888888888888888,
             "#000019"
            ],
            [
             1,
             "#000020"
            ]
           ],
           "sequentialminus": [
            [
             0,
             "#000011"
            ],
            [
             0.1111111111111111,
             "#000012"
            ],
            [
             0.2222222222222222,
             "#000013"
            ],
            [
             0.3333333333333333,
             "#000014"
            ],
            [
             0.4444444444444444,
             "#000015"
            ],
            [
             0.5555555555555556,
             "#000016"
            ],
            [
             0.6666666666666666,
             "#000017"
            ],
            [
             0.7777777777777778,
             "#000018"
            ],
            [
             0.8888888888888888,
             "#000019"
            ],
            [
             1,
             "#000020"
            ]
           ]
          },
          "colorway": [
           "#000001",
           "#000002",
           "#000003",
           "#000004",
           "#000005",
           "#000006",
           "#000007",
           "#000008",
           "#000009",
           "#000010"
          ]
         }
        },
        "width": 1000,
        "xaxis": {
         "title": {
          "text": "Frequenz [Hz]"
         },
         "type": "category"
        },
        "yaxis": {
         "title": {
          "text": "Nachhallzeit [s]"
         }
        }
       }
      }
     },
     "metadata": {},
     "output_type": "display_data"
    },
    {
     "data": {
      "application/vnd.plotly.v1+json": {
       "config": {
        "plotlyServerURL": "https://plot.ly"
       },
       "data": [
        {
         "hoverinfo": "skip",
         "legendgroup": "boundaries",
         "marker": {
          "color": "green"
         },
         "mode": "lines",
         "name": "Grenzen",
         "type": "scatter",
         "x": [
          125,
          250,
          500,
          1000,
          2000,
          4000
         ],
         "y": [
          0.65,
          0.8,
          0.8,
          0.8,
          0.8,
          0.65
         ]
        },
        {
         "fill": "tonexty",
         "fillcolor": "rgba(26, 199, 93, 0.1)",
         "hoverinfo": "skip",
         "legendgroup": "boundaries",
         "marker": {
          "color": "green"
         },
         "mode": "lines",
         "showlegend": false,
         "type": "scatter",
         "x": [
          125,
          250,
          500,
          1000,
          2000,
          4000
         ],
         "y": [
          1.45,
          1.2,
          1.2,
          1.2,
          1.2,
          1.2
         ]
        },
        {
         "marker": {
          "color": "rgba(28, 122, 255, 1)"
         },
         "name": "Nachhallzeitenvergleich",
         "type": "bar",
         "width": 0.2,
         "x": [
          125,
          250,
          500,
          1000,
          2000,
          4000
         ],
         "y": [
          0.7681456984133118,
          1.0713611056817245,
          1.0856459204241475,
          1.10031681124069,
          1.10031681124069,
          1.1698770694225726
         ]
        }
       ],
       "layout": {
        "height": 600,
        "template": {
         "data": {
          "candlestick": [
           {
            "decreasing": {
             "line": {
              "color": "#000033"
             }
            },
            "increasing": {
             "line": {
              "color": "#000032"
             }
            },
            "type": "candlestick"
           }
          ],
          "contour": [
           {
            "colorscale": [
             [
              0,
              "#000011"
             ],
             [
              0.1111111111111111,
              "#000012"
             ],
             [
              0.2222222222222222,
              "#000013"
             ],
             [
              0.3333333333333333,
              "#000014"
             ],
             [
              0.4444444444444444,
              "#000015"
             ],
             [
              0.5555555555555556,
              "#000016"
             ],
             [
              0.6666666666666666,
              "#000017"
             ],
             [
              0.7777777777777778,
              "#000018"
             ],
             [
              0.8888888888888888,
              "#000019"
             ],
             [
              1,
              "#000020"
             ]
            ],
            "type": "contour"
           }
          ],
          "contourcarpet": [
           {
            "colorscale": [
             [
              0,
              "#000011"
             ],
             [
              0.1111111111111111,
              "#000012"
             ],
             [
              0.2222222222222222,
              "#000013"
             ],
             [
              0.3333333333333333,
              "#000014"
             ],
             [
              0.4444444444444444,
              "#000015"
             ],
             [
              0.5555555555555556,
              "#000016"
             ],
             [
              0.6666666666666666,
              "#000017"
             ],
             [
              0.7777777777777778,
              "#000018"
             ],
             [
              0.8888888888888888,
              "#000019"
             ],
             [
              1,
              "#000020"
             ]
            ],
            "type": "contourcarpet"
           }
          ],
          "heatmap": [
           {
            "colorscale": [
             [
              0,
              "#000011"
             ],
             [
              0.1111111111111111,
              "#000012"
             ],
             [
              0.2222222222222222,
              "#000013"
             ],
             [
              0.3333333333333333,
              "#000014"
             ],
             [
              0.4444444444444444,
              "#000015"
             ],
             [
              0.5555555555555556,
              "#000016"
             ],
             [
              0.6666666666666666,
              "#000017"
             ],
             [
              0.7777777777777778,
              "#000018"
             ],
             [
              0.8888888888888888,
              "#000019"
             ],
             [
              1,
              "#000020"
             ]
            ],
            "type": "heatmap"
           }
          ],
          "histogram2d": [
           {
            "colorscale": [
             [
              0,
              "#000011"
             ],
             [
              0.1111111111111111,
              "#000012"
             ],
             [
              0.2222222222222222,
              "#000013"
             ],
             [
              0.3333333333333333,
              "#000014"
             ],
             [
              0.4444444444444444,
              "#000015"
             ],
             [
              0.5555555555555556,
              "#000016"
             ],
             [
              0.6666666666666666,
              "#000017"
             ],
             [
              0.7777777777777778,
              "#000018"
             ],
             [
              0.8888888888888888,
              "#000019"
             ],
             [
              1,
              "#000020"
             ]
            ],
            "type": "histogram2d"
           }
          ],
          "icicle": [
           {
            "textfont": {
             "color": "white"
            },
            "type": "icicle"
           }
          ],
          "sankey": [
           {
            "textfont": {
             "color": "#000036"
            },
            "type": "sankey"
           }
          ],
          "scatter": [
           {
            "marker": {
             "line": {
              "width": 0
             }
            },
            "type": "scatter"
           }
          ],
          "table": [
           {
            "cells": {
             "fill": {
              "color": "#000038"
             },
             "font": {
              "color": "#000037"
             },
             "line": {
              "color": "#000039"
             }
            },
            "header": {
             "fill": {
              "color": "#000040"
             },
             "font": {
              "color": "#000036"
             },
             "line": {
              "color": "#000039"
             }
            },
            "type": "table"
           }
          ],
          "waterfall": [
           {
            "connector": {
             "line": {
              "color": "#000036",
              "width": 2
             }
            },
            "decreasing": {
             "marker": {
              "color": "#000033"
             }
            },
            "increasing": {
             "marker": {
              "color": "#000032"
             }
            },
            "totals": {
             "marker": {
              "color": "#000034"
             }
            },
            "type": "waterfall"
           }
          ]
         },
         "layout": {
          "coloraxis": {
           "colorscale": [
            [
             0,
             "#000011"
            ],
            [
             0.1111111111111111,
             "#000012"
            ],
            [
             0.2222222222222222,
             "#000013"
            ],
            [
             0.3333333333333333,
             "#000014"
            ],
            [
             0.4444444444444444,
             "#000015"
            ],
            [
             0.5555555555555556,
             "#000016"
            ],
            [
             0.6666666666666666,
             "#000017"
            ],
            [
             0.7777777777777778,
             "#000018"
            ],
            [
             0.8888888888888888,
             "#000019"
            ],
            [
             1,
             "#000020"
            ]
           ]
          },
          "colorscale": {
           "diverging": [
            [
             0,
             "#000021"
            ],
            [
             0.1,
             "#000022"
            ],
            [
             0.2,
             "#000023"
            ],
            [
             0.3,
             "#000024"
            ],
            [
             0.4,
             "#000025"
            ],
            [
             0.5,
             "#000026"
            ],
            [
             0.6,
             "#000027"
            ],
            [
             0.7,
             "#000028"
            ],
            [
             0.8,
             "#000029"
            ],
            [
             0.9,
             "#000030"
            ],
            [
             1,
             "#000031"
            ]
           ],
           "sequential": [
            [
             0,
             "#000011"
            ],
            [
             0.1111111111111111,
             "#000012"
            ],
            [
             0.2222222222222222,
             "#000013"
            ],
            [
             0.3333333333333333,
             "#000014"
            ],
            [
             0.4444444444444444,
             "#000015"
            ],
            [
             0.5555555555555556,
             "#000016"
            ],
            [
             0.6666666666666666,
             "#000017"
            ],
            [
             0.7777777777777778,
             "#000018"
            ],
            [
             0.8888888888888888,
             "#000019"
            ],
            [
             1,
             "#000020"
            ]
           ],
           "sequentialminus": [
            [
             0,
             "#000011"
            ],
            [
             0.1111111111111111,
             "#000012"
            ],
            [
             0.2222222222222222,
             "#000013"
            ],
            [
             0.3333333333333333,
             "#000014"
            ],
            [
             0.4444444444444444,
             "#000015"
            ],
            [
             0.5555555555555556,
             "#000016"
            ],
            [
             0.6666666666666666,
             "#000017"
            ],
            [
             0.7777777777777778,
             "#000018"
            ],
            [
             0.8888888888888888,
             "#000019"
            ],
            [
             1,
             "#000020"
            ]
           ]
          },
          "colorway": [
           "#000001",
           "#000002",
           "#000003",
           "#000004",
           "#000005",
           "#000006",
           "#000007",
           "#000008",
           "#000009",
           "#000010"
          ]
         }
        },
        "width": 1000,
        "xaxis": {
         "title": {
          "text": "Frequenz [Hz]"
         },
         "type": "category"
        },
        "yaxis": {
         "title": {
          "text": "T / T_soll"
         }
        }
       }
      }
     },
     "metadata": {},
     "output_type": "display_data"
    }
   ],
   "source": [
    "import math \n",
    "import numpy as np\n",
    "import plotly.graph_objects as go\n",
    "from utils import basic_dict, read_db\n",
    "\n",
    "volume = 40 # Abschaetzung eines normal grossen Raumes\n",
    "surface = [20,20,10,10,8,8] # Abschaetzung eines normal grossen Raumes\n",
    "# Testwerte fuer die diffusen Absorptionsgrade\n",
    "\n",
    "alpha = {'125 Hz': [.2, 0.1,0.2, 0.1,0.1, 0.1], '250 Hz': [0.1, 0.1,0.1, 0.1,0.1, 0.1], \n",
    "           '500 Hz': [0.02, 0.1,0.2, 0.07,0.1, 0.2], '1 kHz': [0.1, 0.1, 0.08, 0.1,  0.1, 0.1], \n",
    "           '2 kHz': [0.1, 0.04, 0.1, 0.2, 0.1, 0.1], '4 kHz': [0.1, 0.1, 0.1, 0.1, 0.02, 0.1]} # \n",
    "\n",
    "use = 'Musik'\n",
    "\n",
    "class room: \n",
    "    '''Class inheriting all functions for calculations and making plots.'''\n",
    "\n",
    "    def __init__(self, volume, surface, alpha, use):\n",
    "        '''Function to initialize the class \"room\"'''\n",
    "        self.input = {'Volume': volume, 'Surface': surface, 'Absorption coefficient': alpha}\n",
    "        self.volume = volume\n",
    "        self.surface = surface\n",
    "        self.alpha = alpha\n",
    "        self.use = use\n",
    "        self.ErrorMessage = None\n",
    "\n",
    "    def criticalDistance(self):\n",
    "        '''\n",
    "        Function to calculate the critical distance, where the energy densities of the direct and reflected soundfield are equal. \n",
    "        Calculation is made with an approximate formula based on statistical acoustics in a diffuse soundfield.\n",
    "        '''\n",
    "        \n",
    "        criticalDistance = np.sqrt(self.equivalentAbsorptionSurface() / 50)\n",
    "\n",
    "        return criticalDistance\n",
    "        \n",
    "    def equivalentAbsorptionSurface(self):\n",
    "        '''Function to calculate the equivalent absorption surface.'''\n",
    "\n",
    "        equivalentAbsorptionSurface = basic_dict()\n",
    "\n",
    "        for walls in range(len(self.surface)):\n",
    "            for octavebands in equivalentAbsorptionSurface:\n",
    "                alphaValuesList = self.alpha[octavebands]\n",
    "                equivalentAbsorptionSurface[octavebands] = equivalentAbsorptionSurface[octavebands] + self.surface[walls] * alphaValuesList[walls]\n",
    " \n",
    "        return equivalentAbsorptionSurface\n",
    "    \n",
    "    def equivalentAbsorptionSurface_people(self, peopleDescription, numberOfPeople):\n",
    "        '''\n",
    "        Function to add equivalent absorption surface based on the number of people in the room and their specification regarding age and position (e.g. standing, sitting).\n",
    "        Data retrieved from Table A.1 in DIN 18041\n",
    "        '''\n",
    "        equivalentAbsorptionSurface_total = basic_dict()\n",
    "        equivalentAbsorptionSurface_walls = self.equivalentAbsorptionSurface()\n",
    "\n",
    "        equivalentAbsorptionSurface_people = read_db('equivalentAbsorptionSurface_people_data.csv')\n",
    "\n",
    "        equivalentAbsorptionSurface_people_list =  equivalentAbsorptionSurface_people[peopleDescription]\n",
    "\n",
    "        index = 0\n",
    "\n",
    "        for octaveBands in equivalentAbsorptionSurface_walls:\n",
    "            \n",
    "            equivalentAbsorptionSurface_total[octaveBands] = equivalentAbsorptionSurface_walls[octaveBands] + numberOfPeople * equivalentAbsorptionSurface_people_list[index]\n",
    "            index += 1\n",
    "            print(index)\n",
    "\n",
    "        return equivalentAbsorptionSurface_total\n",
    "   \n",
    "    def reverberationTime(self):\n",
    "        '''Function to calculate the reverberation time.'''\n",
    "\n",
    "        reverberationTimeSeconds = basic_dict()\n",
    "        equivalentSurface = self.equivalentAbsorptionSurface()\n",
    "        for octavebands in equivalentSurface:\n",
    "            reverberationTimeSeconds[octavebands] = (self.volume / equivalentSurface[octavebands]) * 0.161\n",
    "\n",
    "        return reverberationTimeSeconds\n",
    "    \n",
    "    def reverberationTime_ratio(self):\n",
    "        '''Function to calculate the ratio of given reverberation time to wanted reverberation time. Wanted reverberation time is based on the rooms use case and its volume.'''\n",
    "\n",
    "        reverberationTime_ratio = basic_dict()\n",
    "        ReverberationTime_upperlimit = {'125 Hz':1.45 , '250 Hz':1.2 , '500 Hz':1.2 , '1 kHz':1.2, '2 kHz':1.2 , '4 kHz':1.2 }\n",
    "        ReverberationTime_lowerlimit = {'125 Hz':0.65 , '250 Hz':0.8 , '500 Hz':0.8 , '1 kHz':0.8, '2 kHz':0.8 , '4 kHz':0.65 }\n",
    "\n",
    "        # Calculation of the wanted reverberation time dependent on the use case given in DIN 18041 (and the volume in use case \"Sport\")\n",
    "        if self.use == 'Musik':\n",
    "            reverberationTime_wanted = 0.45 * math.log10(self.volume) + 0.07\n",
    "\n",
    "        elif self.use == 'Sprache/Vortrag':\n",
    "            reverberationTime_wanted = 0.37 * math.log10(self.volume) - 0.14\n",
    "\n",
    "        elif self.use == 'Sprache/Vortrag inklusiv':    \n",
    "            reverberationTime_wanted = 0.32 * math.log10(self.volume) - 0.17\n",
    "\n",
    "        elif self.use == 'Unterricht/Kommunikation':\n",
    "            reverberationTime_wanted = 0.32 * math.log10(self.volume) - 0.17\n",
    "\n",
    "        elif self.use == 'Unterricht/Kommunikation inklusiv':\n",
    "            reverberationTime_wanted = 0.26 * math.log10(self.volume) - 0.14\n",
    "\n",
    "        elif self.use == 'Sport':\n",
    "                if self.volume > 10000:        \n",
    "                    reverberationTime_wanted = 2\n",
    "                else:\n",
    "                    reverberationTime_wanted = 0.75 * math.log10(self.volume) - 1\n",
    "\n",
    "        # Calculation of the ratio of calculated reverberation time to wanted reverberation time from DIN 18041 \n",
    "        for octaveBands in self.reverberationTime():\n",
    "            reverberationTime_ratio[octaveBands] = self.reverberationTime()[octaveBands] / reverberationTime_wanted\n",
    "            if reverberationTime_ratio[octaveBands] > ReverberationTime_upperlimit[octaveBands]:\n",
    "                self.ErrorMessage = f'Nachhallzeit in Oktavband mit Mittenfrequenz {octaveBands} zu hoch'\n",
    "            elif reverberationTime_ratio[octaveBands] < ReverberationTime_lowerlimit[octaveBands]:\n",
    "                self.ErrorMessage = f'Nachhallzeit in Oktavband mit Mittenfrequenz {octaveBands} zu niedrig'  \n",
    "\n",
    "        return reverberationTime_ratio, self.ErrorMessage\n",
    "    \n",
    "    def plot_reverberationTime(self):\n",
    "        '''Function, which returns a plot of the reverberation time in octave bands.'''\n",
    "\n",
    "        freq = np.array([125,250,500,1000,2000,4000])\n",
    "        reverberationTimeSeconds = self.reverberationTime()\n",
    "\n",
    "        fig = go.Figure()\n",
    "\n",
    "        trace1 = go.Bar(x = freq, \n",
    "                        y = list(reverberationTimeSeconds.values()), \n",
    "                        name = 'bar', \n",
    "                        marker_color = 'blue', \n",
    "                        showlegend= True, \n",
    "                        width=.2)\n",
    "        \n",
    "        fig.add_trace(trace1)\n",
    "\n",
    "        fig.update_layout(xaxis_title = 'Frequenz [Hz]', \n",
    "                          yaxis_title = 'Nachhallzeit [s]', \n",
    "                          width = 1000, \n",
    "                          height = 600)\n",
    "        \n",
    "        fig.update_xaxes(type='category')\n",
    "\n",
    "        return fig\n",
    "    \n",
    "    def plot_reverberationTime_ratio(self):\n",
    "        '''\n",
    "        Function, which returns a plot of the calculated reverberation time in comparison to the wanted reverberation time \n",
    "        and the allowed deviations in octave bands.'''\n",
    "        \n",
    "        frequencies = [125,250,500,1000,2000,4000]\n",
    "        \n",
    "        ReverberationTime_upperlimit = [1.45, 1.2, 1.2, 1.2, 1.2, 1.2]\n",
    "        ReverberationTime_lowerlimit = [0.65, 0.8, 0.8, 0.8, 0.8, 0.65]\n",
    "\n",
    "        reverberationTime_ratio = list(self.reverberationTime_ratio()[0].values())\n",
    "\n",
    "        fig = go.Figure()\n",
    "\n",
    "        trace1 = go.Scatter(x = frequencies, \n",
    "                            y = ReverberationTime_lowerlimit, \n",
    "                            name = 'Grenzen', \n",
    "                            marker_color = 'green', \n",
    "                            mode = 'lines', \n",
    "                            legendgroup = 'boundaries',\n",
    "                            hoverinfo = 'skip'\n",
    "                            )\n",
    "        \n",
    "        trace2 = go.Scatter(x = frequencies, \n",
    "                            y = ReverberationTime_upperlimit, \n",
    "                            marker_color = 'green', \n",
    "                            fill = 'tonexty', \n",
    "                            fillcolor = 'rgba(26, 199, 93, 0.1)',\n",
    "                            mode = 'lines',\n",
    "                            legendgroup = 'boundaries',\n",
    "                            showlegend = False,\n",
    "                            hoverinfo = 'skip',\n",
    "                            )\n",
    "        \n",
    "        trace3 = go.Bar(x = frequencies, \n",
    "                        y = reverberationTime_ratio, \n",
    "                        name = 'Nachhallzeitenvergleich',\n",
    "                        width = .2,\n",
    "                        marker_color = 'rgba(28, 122, 255, 1)',\n",
    "                        # hovertemplate = 'Mittenfrequenz: %{x} Hz<br>Nachhallzeitenvergleich: %{y:.2f}', \n",
    "                        )\n",
    "        \n",
    "        fig.update_xaxes(type = 'category')       \n",
    "\n",
    "        fig.update_layout(xaxis_title = 'Frequenz [Hz]',\n",
    "                          yaxis_title = 'T / T_soll', \n",
    "                          width = 1000, \n",
    "                          height = 600, \n",
    "                        #   legend={'traceorder':'normal'},\n",
    "                        #   hoverlabel = dict(bgcolor = 'rgba(28, 122, 255, .4)')\n",
    "                          )\n",
    "        \n",
    "        fig.add_trace(trace1)\n",
    "        fig.add_trace(trace2)\n",
    "        fig.add_trace(trace3)\n",
    "        \n",
    "        return fig\n",
    "\n",
    "room1 = room(volume , surface, alpha, use)\n",
    "\n",
    "room1.plot_reverberationTime_ratio()\n",
    "\n",
    "fig = room1.plot_reverberationTime()\n",
    "fig.show()\n",
    "\n",
    "room1.plot_reverberationTime_ratio()"
   ]
  },
  {
   "cell_type": "code",
   "execution_count": null,
   "metadata": {},
   "outputs": [],
   "source": []
  }
 ],
 "metadata": {
  "kernelspec": {
   "display_name": "base",
   "language": "python",
   "name": "python3"
  },
  "language_info": {
   "codemirror_mode": {
    "name": "ipython",
    "version": 3
   },
   "file_extension": ".py",
   "mimetype": "text/x-python",
   "name": "python",
   "nbconvert_exporter": "python",
   "pygments_lexer": "ipython3",
   "version": "3.10.9"
  },
  "orig_nbformat": 4
 },
 "nbformat": 4,
 "nbformat_minor": 2
}
