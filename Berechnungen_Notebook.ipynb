{
 "cells": [
  {
   "cell_type": "code",
   "execution_count": 5,
   "metadata": {},
   "outputs": [],
   "source": [
    "# import math \n",
    "# import numpy as np\n",
    "# import plotly.graph_objects as go\n",
    "# from utils import basic_dict\n",
    "\n",
    "# volume = 40 # Abschaetzung eines normal grossen Raumes\n",
    "# surface = [20,20,10,10,8,8] # Abschaetzung eines normal grossen Raumes\n",
    "# # Testwerte fuer die diffusen Absorptionsgrade\n",
    "\n",
    "# alpha = {'125 Hz': [0.1, 0.1,0.2, 0.1,0.1, 0.1], '250 Hz': [0.1, 0.1,0.1, 0.1,0.1, 0.1], \n",
    "#            '500 Hz': [0.02, 0.1,0.2, 0.07,0.1, 0.2], '1 kHz': [0.1, 0.1, 0.08, 0.1,  0.1, 0.1], \n",
    "#            '2 kHz': [0.1, 0.04, 0.1, 0.2, 0.1, 0.1], '4 kHz': [0.1, 0.1, 0.1, 0.1, 0.02, 0.1]} # \n",
    "\n",
    "# use = 'Musik'\n",
    "\n",
    "# class room: \n",
    "\n",
    "#     def __init__(self, volume, surface, alpha, use):\n",
    "#         self.input = {'Volume': volume, 'Surface': surface, 'Absorption coefficient': alpha}\n",
    "#         self.volume = volume\n",
    "#         self.surface = surface\n",
    "#         self.alpha = alpha\n",
    "#         self.use = use\n",
    "        \n",
    "#     def equivalent_absorption_surface(self):\n",
    "#         # surface als list mit m^2 der einzelnen Waende\n",
    "#         # alpha_d als dictionary mit Oktavbandfrequenzen als key und Liste der diffusen Absorptionsgrade pro Wand als value   \n",
    "        \n",
    "#         # basic_dict() muss noch umgeschrieben werden {'125 Hz':0 , '250 Hz':0 , '500 Hz':0 , '1 kHz':0, '2 kHz':0 , '4 kHz':0 }\n",
    "#         A = basic_dict()\n",
    "#         numberPeople = 0\n",
    "\n",
    "#         A_person = basic_dict()\n",
    "\n",
    "\n",
    "#         for walls in range(len(self.surface)):\n",
    "#             for octavebands in A:\n",
    "#                 alphaValuesList = self.alpha[octavebands]\n",
    "#                 A[octavebands] = A[octavebands] + self.surface[walls] * alphaValuesList[walls] \n",
    " \n",
    "#         return A\n",
    "   \n",
    "#     def nachhallzeit(self):\n",
    "#         reverberationTimeSeconds = basic_dict()\n",
    "#         equivalentSurface = self.equivalent_absorption_surface()\n",
    "#         for octavebands in equivalentSurface:\n",
    "#             reverberationTimeSeconds[octavebands] = (self.volume / equivalentSurface[octavebands]) * 0.161\n",
    "#         return reverberationTimeSeconds\n",
    "    \n",
    "#     # def level_diffuse(self):\n",
    "#     #     L_R = basic_dict()\n",
    "#     #     equivalentSurface = self.equivalent_absorption_surface()\n",
    "#     #     for octavebands in self.alpha_d:\n",
    "#     #         L_R[octavebands] = 10 * math.log10(power / 10**(-12)) - 10 * math.log10(equivalentSurface[octavebands]) + 6\n",
    "#     #     return L_R\n",
    "    \n",
    "#     # def level_direct(self):\n",
    "#     #     L_D = 10 * math.log10(self.power / 10**(-12)) - 10 * math.log10(4 * np.pi * self.distance**2)\n",
    "#     #     return L_D\n",
    "\n",
    "#     def hallradius(self):\n",
    "#         # distance = 10**(-10)\n",
    "#         # L_R = self.level_diffuse()\n",
    "#         # L_D = self.level_direct()\n",
    "\n",
    "#         # L_Rm = 0 # Initalisierung fuer Mittelwert des reflektierten Schalldruckpegels ueber alle Oktavbaender\n",
    "#         # # Mittelwertbildung des reflektierten Schalldruckpegels\n",
    "#         # for i in L_R:\n",
    "#         #     L_Rm = L_Rm + L_R[i] \n",
    "#         # L_Rm = L_Rm / len(L_R)\n",
    "#         # # Sobald Mittelwert des reflektierten Schalldruckpegels\n",
    "#         # # groesser als direkter Schalldruckpegel ist wird Hallradius ausgegeben\n",
    "#         # while L_Rm < L_D:\n",
    "#         #     self.distance = self.distance + 0.01\n",
    "#         #     L_D = self.level_direct()            \n",
    "#         # return self.distance \n",
    "#         hallradius = np.sqrt(self.equivalent_absorption_surface() / 50)\n",
    "\n",
    "#         return hallradius\n",
    "    \n",
    "#     def sprachverstaendlichkeit(self):\n",
    "#         T_Vergleich = basic_dict()\n",
    "#         T_upperlimit = {'125 Hz':1.45 , '250 Hz':1.2 , '500 Hz':1.2 , '1 kHz':1.2, '2 kHz':1.2 , '4 kHz':1.2 }\n",
    "#         T_lowerlimit = {'125 Hz':0.65 , '250 Hz':0.8 , '500 Hz':0.8 , '1 kHz':0.8, '2 kHz':0.8 , '4 kHz':0.65 }\n",
    "\n",
    "#         # Pruefung welchen use (welche Nutzungsart nach DIN 18041) vorliegt und Berechnung der Soll-Nachhallzeit abhaengig vom Raumvolumen\n",
    "#         if self.use == 'Musik':\n",
    "#             # Pruefung, ob das Volumen nach DIN 18041 fuer Nutzungsart zugelassen ist\n",
    "#             # Falls es nicht passend ist wird T_Vergleich 0 gesetzt, damit im Folgenden auch die Funktion plot_nachhallzeit beendet werden kann ohne, dass es zu Fehlern kommt\n",
    "#             # Ansonsten wird einfach die T_soll ausgerechnet \n",
    "#             while True:\n",
    "#                 if self.volume < 30:\n",
    "#                     print(f'Volumen ist mit {self.volume} m^3 zu klein für die Berechnung nach DIN 18041 mit der Nutzungsart \"Musik\"')\n",
    "#                     # T_Vergleich = {'125 Hz':0 , '250 Hz':0 , '500 Hz':0 , '1 kHz':0, '2 kHz':0 , '4 kHz':0 }\n",
    "#                     return T_Vergleich\n",
    "#                 elif self.volume > 1000:        \n",
    "#                     print(f'Volumen ist mit {self.volume} m^3 zu groß für die Berechnung nach DIN 18041 mit der Nutzungsart \"Musik\"')\n",
    "#                     # T_Vergleich = {'125 Hz':0 , '250 Hz':0 , '500 Hz':0 , '1 kHz':0, '2 kHz':0 , '4 kHz':0 }\n",
    "#                     return T_Vergleich\n",
    "#                 else:    \n",
    "#                     T_soll = 0.45 * math.log10(self.volume) + 0.07\n",
    "#                     break\n",
    "                \n",
    "\n",
    "#         elif self.use == 'Sprache/Vortrag':\n",
    "#             while True:\n",
    "#                 if self.volume < 50:\n",
    "#                     print(f'Volumen ist mit {self.volume} m^3 zu klein für die Berechnung nach DIN 18041 mit der Nutzungsart \"Sprache/Vortrag\"')\n",
    "#                     # T_Vergleich = {'125 Hz':0 , '250 Hz':0 , '500 Hz':0 , '1 kHz':0, '2 kHz':0 , '4 kHz':0 }\n",
    "#                     return T_Vergleich\n",
    "#                 elif self.volume > 5000:        \n",
    "#                     print(f'Volumen ist mit {self.volume} m^3 zu groß für die Berechnung nach DIN 18041 mit der Nutzungsart \"Sprache/Vortrag\"')\n",
    "#                     # T_Vergleich = {'125 Hz':0 , '250 Hz':0 , '500 Hz':0 , '1 kHz':0, '2 kHz':0 , '4 kHz':0 }\n",
    "#                     return T_Vergleich\n",
    "#                 else:    \n",
    "#                     T_soll = 0.37 * math.log10(self.volume) - 0.14\n",
    "#                     break\n",
    "\n",
    "#         elif self.use == 'Sprache/Vortrag inklusiv':\n",
    "#             while True:\n",
    "#                 if self.volume < 30:\n",
    "#                     print(f'Volumen ist mit {self.volume} m^3 zu klein für die Berechnung nach DIN 18041 mit der Nutzungsart \"Sprache/Vortrag inklusiv\"')\n",
    "#                     # T_Vergleich = {'125 Hz':0 , '250 Hz':0 , '500 Hz':0 , '1 kHz':0, '2 kHz':0 , '4 kHz':0 }\n",
    "#                     return T_Vergleich\n",
    "#                 elif self.volume > 5000:        \n",
    "#                     print(f'Volumen ist mit {self.volume} m^3 zu groß für die Berechnung nach DIN 18041 mit der Nutzungsart \"Sprache/Vortrag inklusiv\"')\n",
    "#                     # T_Vergleich = {'125 Hz':0 , '250 Hz':0 , '500 Hz':0 , '1 kHz':0, '2 kHz':0 , '4 kHz':0 }\n",
    "#                     return T_Vergleich\n",
    "#                 else:    \n",
    "#                     T_soll = 0.32 * math.log10(self.volume) - 0.17\n",
    "#                     break\n",
    "\n",
    "#         elif self.use == 'Unterricht/Kommunikation':\n",
    "#             while True:\n",
    "#                 if self.volume < 30:\n",
    "#                     print(f'Volumen ist mit {self.volume} m^3 zu klein für die Berechnung nach DIN 18041 mit der Nutzungsart \"Unterricht/Kommunikation\"')\n",
    "#                     # T_Vergleich = {'125 Hz':0 , '250 Hz':0 , '500 Hz':0 , '1 kHz':0, '2 kHz':0 , '4 kHz':0 }\n",
    "#                     return T_Vergleich\n",
    "#                 elif self.volume > 1000:        \n",
    "#                     print(f'Volumen ist mit {self.volume} m^3 zu groß für die Berechnung nach DIN 18041 mit der Nutzungsart \"Unterricht/Kommunikation\"')\n",
    "#                     # T_Vergleich = {'125 Hz':0 , '250 Hz':0 , '500 Hz':0 , '1 kHz':0, '2 kHz':0 , '4 kHz':0 }\n",
    "#                     return T_Vergleich\n",
    "#                 else:\n",
    "#                     T_soll = 0.32 * math.log10(self.volume) - 0.17\n",
    "\n",
    "#         elif self.use == 'Unterricht/Kommunikation inklusiv':\n",
    "#             while True:\n",
    "#                 if self.volume < 30:\n",
    "#                     print(f'Volumen ist mit {self.volume} m^3 zu klein für die Berechnung nach DIN 18041 mit der Nutzungsart \"Unterricht/Kommunikation inklusiv\"')\n",
    "#                     # T_Vergleich = {'125 Hz':0 , '250 Hz':0 , '500 Hz':0 , '1 kHz':0, '2 kHz':0 , '4 kHz':0 }\n",
    "#                     return T_Vergleich\n",
    "#                 elif self.volume > 500:        \n",
    "#                     print(f'Volumen ist mit {self.volume} m^3 zu groß für die Berechnung nach DIN 18041 mit der Nutzungsart \"Unterricht/Kommunikation inklusiv\"')\n",
    "#                     # T_Vergleich = {'125 Hz':0 , '250 Hz':0 , '500 Hz':0 , '1 kHz':0, '2 kHz':0 , '4 kHz':0 }\n",
    "#                     return T_Vergleich\n",
    "#                 else:\n",
    "#                     T_soll = 0.26 * math.log10(self.volume) - 0.14\n",
    "\n",
    "#         elif self.use == 'Sport':\n",
    "#             while True:\n",
    "#                 if self.volume < 200:\n",
    "#                     print(f'Volumen ist mit {self.volume} m^3 zu klein für die Berechnung nach DIN 18041 mit der Nutzungsart \"Sport\"')\n",
    "#                     # T_Vergleich = {'125 Hz':0 , '250 Hz':0 , '500 Hz':0 , '1 kHz':0, '2 kHz':0 , '4 kHz':0 }\n",
    "#                     return T_Vergleich\n",
    "#                 elif self.volume > 10000:        \n",
    "#                     T_soll = 2\n",
    "#                     break\n",
    "#                 else:\n",
    "#                     T_soll = 0.75 * math.log10(self.volume) - 1\n",
    "#                     break\n",
    "\n",
    "#         # Berechnung des Quotienten RT/RT_soll und Pruefung, ob berechnete Nachhallzeit in den Fehlerschranken nach Abbildung 2 in DIN 18041 liegt\n",
    "#         for octavbands in self.nachhallzeit():\n",
    "#             T_Vergleich[octavbands] = self.nachhallzeit()[octavbands] / T_soll\n",
    "#             if T_Vergleich[octavbands] > T_upperlimit[octavbands]:\n",
    "#                 print(f'Nachhallzeit in Oktavband mit Mittenfrequenz {octavbands} zu hoch')\n",
    "#             elif T_Vergleich[octavbands] < T_lowerlimit[octavbands]:\n",
    "#                 print(f'Nachhallzeit in Oktavband mit Mittenfrequenz {octavbands} zu niedrig')      \n",
    "#         return T_Vergleich\n",
    "    \n",
    "#     def plotly_nachhallzeit(self):\n",
    "#         freq = np.array([125,250,500,1000,2000,4000])\n",
    "#         reverberationTimeSeconds = self.nachhallzeit()\n",
    "\n",
    "#         fig = go.Figure()\n",
    "\n",
    "#         trace1 = go.Bar(x = freq, y = list(reverberationTimeSeconds.values()), marker_color = 'blue')\n",
    "#         fig.add_trace(trace1)\n",
    "\n",
    "#         fig.update_layout(xaxis_title = 'Frequenz [Hz]', yaxis_title = 'Nachhallzeit [s]', width = 1000, height = 600)\n",
    "#         fig.update_xaxes(type='category')\n",
    "#         fig.update_traces(width=.2)\n",
    "\n",
    "#         fig.show()\n",
    "#         return fig\n",
    "    \n",
    "#     def plotly_nachhallzeit_vergleich(self):\n",
    "\n",
    "#         T_Vergleich = np.array(list(self.sprachverstaendlichkeit().values()))\n",
    "#         if np.average(T_Vergleich) == 0:\n",
    "#             return \n",
    "        \n",
    "#         freq = [125,250,500,1000,2000,4000]\n",
    "        \n",
    "#         T_upperlimit = np.array([1.45, 1.2, 1.2, 1.2, 1.2, 1.2])\n",
    "#         T_lowerlimit = np.array([0.65, 0.8, 0.8, 0.8, 0.8, 0.65])\n",
    "\n",
    "#         fig = go.Figure()\n",
    "#         trace1 = go.Scatter(x = freq, y = T_lowerlimit, marker_color = 'green', mode='lines')\n",
    "#         trace2 = go.Scatter(x = freq, y = T_upperlimit, marker_color = 'green', fill = 'tonexty', fillcolor='rgba(26, 199, 93, 0.1)', mode='lines')\n",
    "#         trace3 = go.Bar(x = freq, y = T_Vergleich, marker_color = 'blue')\n",
    "        \n",
    "#         fig.update_xaxes(type='category')          \n",
    "#         fig.update_layout(xaxis_title = 'Frequenz [Hz]', yaxis_title = 'T / T_soll', width = 1000, height = 600)\n",
    "        \n",
    "#         fig.add_trace(trace3)\n",
    "#         fig.update_traces(width=.2)\n",
    "#         fig.add_trace(trace1)\n",
    "#         fig.add_trace(trace2)\n",
    "       \n",
    "#         return fig\n",
    "    \n",
    "# room1 = room(volume , surface, alpha, use)\n",
    "\n",
    "\n",
    "# room1.plotly_nachhallzeit()\n",
    "# room1.plotly_nachhallzeit_vergleich()"
   ]
  },
  {
   "cell_type": "code",
   "execution_count": 4,
   "metadata": {},
   "outputs": [
    {
     "data": {
      "application/vnd.plotly.v1+json": {
       "config": {
        "plotlyServerURL": "https://plot.ly"
       },
       "data": [
        {
         "marker": {
          "color": "blue"
         },
         "type": "bar",
         "width": 0.2,
         "x": [
          125,
          250,
          500,
          1000,
          2000,
          4000
         ],
         "y": [
          0.7488372093023257,
          0.8473684210526317,
          0.8586666666666667,
          0.8702702702702704,
          0.8702702702702704,
          0.925287356321839
         ]
        }
       ],
       "layout": {
        "height": 600,
        "template": {
         "data": {
          "candlestick": [
           {
            "decreasing": {
             "line": {
              "color": "#000033"
             }
            },
            "increasing": {
             "line": {
              "color": "#000032"
             }
            },
            "type": "candlestick"
           }
          ],
          "contour": [
           {
            "colorscale": [
             [
              0,
              "#000011"
             ],
             [
              0.1111111111111111,
              "#000012"
             ],
             [
              0.2222222222222222,
              "#000013"
             ],
             [
              0.3333333333333333,
              "#000014"
             ],
             [
              0.4444444444444444,
              "#000015"
             ],
             [
              0.5555555555555556,
              "#000016"
             ],
             [
              0.6666666666666666,
              "#000017"
             ],
             [
              0.7777777777777778,
              "#000018"
             ],
             [
              0.8888888888888888,
              "#000019"
             ],
             [
              1,
              "#000020"
             ]
            ],
            "type": "contour"
           }
          ],
          "contourcarpet": [
           {
            "colorscale": [
             [
              0,
              "#000011"
             ],
             [
              0.1111111111111111,
              "#000012"
             ],
             [
              0.2222222222222222,
              "#000013"
             ],
             [
              0.3333333333333333,
              "#000014"
             ],
             [
              0.4444444444444444,
              "#000015"
             ],
             [
              0.5555555555555556,
              "#000016"
             ],
             [
              0.6666666666666666,
              "#000017"
             ],
             [
              0.7777777777777778,
              "#000018"
             ],
             [
              0.8888888888888888,
              "#000019"
             ],
             [
              1,
              "#000020"
             ]
            ],
            "type": "contourcarpet"
           }
          ],
          "heatmap": [
           {
            "colorscale": [
             [
              0,
              "#000011"
             ],
             [
              0.1111111111111111,
              "#000012"
             ],
             [
              0.2222222222222222,
              "#000013"
             ],
             [
              0.3333333333333333,
              "#000014"
             ],
             [
              0.4444444444444444,
              "#000015"
             ],
             [
              0.5555555555555556,
              "#000016"
             ],
             [
              0.6666666666666666,
              "#000017"
             ],
             [
              0.7777777777777778,
              "#000018"
             ],
             [
              0.8888888888888888,
              "#000019"
             ],
             [
              1,
              "#000020"
             ]
            ],
            "type": "heatmap"
           }
          ],
          "histogram2d": [
           {
            "colorscale": [
             [
              0,
              "#000011"
             ],
             [
              0.1111111111111111,
              "#000012"
             ],
             [
              0.2222222222222222,
              "#000013"
             ],
             [
              0.3333333333333333,
              "#000014"
             ],
             [
              0.4444444444444444,
              "#000015"
             ],
             [
              0.5555555555555556,
              "#000016"
             ],
             [
              0.6666666666666666,
              "#000017"
             ],
             [
              0.7777777777777778,
              "#000018"
             ],
             [
              0.8888888888888888,
              "#000019"
             ],
             [
              1,
              "#000020"
             ]
            ],
            "type": "histogram2d"
           }
          ],
          "icicle": [
           {
            "textfont": {
             "color": "white"
            },
            "type": "icicle"
           }
          ],
          "sankey": [
           {
            "textfont": {
             "color": "#000036"
            },
            "type": "sankey"
           }
          ],
          "scatter": [
           {
            "marker": {
             "line": {
              "width": 0
             }
            },
            "type": "scatter"
           }
          ],
          "table": [
           {
            "cells": {
             "fill": {
              "color": "#000038"
             },
             "font": {
              "color": "#000037"
             },
             "line": {
              "color": "#000039"
             }
            },
            "header": {
             "fill": {
              "color": "#000040"
             },
             "font": {
              "color": "#000036"
             },
             "line": {
              "color": "#000039"
             }
            },
            "type": "table"
           }
          ],
          "waterfall": [
           {
            "connector": {
             "line": {
              "color": "#000036",
              "width": 2
             }
            },
            "decreasing": {
             "marker": {
              "color": "#000033"
             }
            },
            "increasing": {
             "marker": {
              "color": "#000032"
             }
            },
            "totals": {
             "marker": {
              "color": "#000034"
             }
            },
            "type": "waterfall"
           }
          ]
         },
         "layout": {
          "coloraxis": {
           "colorscale": [
            [
             0,
             "#000011"
            ],
            [
             0.1111111111111111,
             "#000012"
            ],
            [
             0.2222222222222222,
             "#000013"
            ],
            [
             0.3333333333333333,
             "#000014"
            ],
            [
             0.4444444444444444,
             "#000015"
            ],
            [
             0.5555555555555556,
             "#000016"
            ],
            [
             0.6666666666666666,
             "#000017"
            ],
            [
             0.7777777777777778,
             "#000018"
            ],
            [
             0.8888888888888888,
             "#000019"
            ],
            [
             1,
             "#000020"
            ]
           ]
          },
          "colorscale": {
           "diverging": [
            [
             0,
             "#000021"
            ],
            [
             0.1,
             "#000022"
            ],
            [
             0.2,
             "#000023"
            ],
            [
             0.3,
             "#000024"
            ],
            [
             0.4,
             "#000025"
            ],
            [
             0.5,
             "#000026"
            ],
            [
             0.6,
             "#000027"
            ],
            [
             0.7,
             "#000028"
            ],
            [
             0.8,
             "#000029"
            ],
            [
             0.9,
             "#000030"
            ],
            [
             1,
             "#000031"
            ]
           ],
           "sequential": [
            [
             0,
             "#000011"
            ],
            [
             0.1111111111111111,
             "#000012"
            ],
            [
             0.2222222222222222,
             "#000013"
            ],
            [
             0.3333333333333333,
             "#000014"
            ],
            [
             0.4444444444444444,
             "#000015"
            ],
            [
             0.5555555555555556,
             "#000016"
            ],
            [
             0.6666666666666666,
             "#000017"
            ],
            [
             0.7777777777777778,
             "#000018"
            ],
            [
             0.8888888888888888,
             "#000019"
            ],
            [
             1,
             "#000020"
            ]
           ],
           "sequentialminus": [
            [
             0,
             "#000011"
            ],
            [
             0.1111111111111111,
             "#000012"
            ],
            [
             0.2222222222222222,
             "#000013"
            ],
            [
             0.3333333333333333,
             "#000014"
            ],
            [
             0.4444444444444444,
             "#000015"
            ],
            [
             0.5555555555555556,
             "#000016"
            ],
            [
             0.6666666666666666,
             "#000017"
            ],
            [
             0.7777777777777778,
             "#000018"
            ],
            [
             0.8888888888888888,
             "#000019"
            ],
            [
             1,
             "#000020"
            ]
           ]
          },
          "colorway": [
           "#000001",
           "#000002",
           "#000003",
           "#000004",
           "#000005",
           "#000006",
           "#000007",
           "#000008",
           "#000009",
           "#000010"
          ]
         }
        },
        "width": 1000,
        "xaxis": {
         "title": {
          "text": "Frequenz [Hz]"
         },
         "type": "category"
        },
        "yaxis": {
         "title": {
          "text": "Nachhallzeit [s]"
         }
        }
       }
      }
     },
     "metadata": {},
     "output_type": "display_data"
    }
   ],
   "source": [
    "import math \n",
    "import numpy as np\n",
    "import plotly.graph_objects as go\n",
    "from utils import basic_dict\n",
    "\n",
    "volume = 40 # Abschaetzung eines normal grossen Raumes\n",
    "surface = [20,20,10,10,8,8] # Abschaetzung eines normal grossen Raumes\n",
    "# Testwerte fuer die diffusen Absorptionsgrade\n",
    "\n",
    "alpha = {'125 Hz': [0.1, 0.1,0.2, 0.1,0.1, 0.1], '250 Hz': [0.1, 0.1,0.1, 0.1,0.1, 0.1], \n",
    "           '500 Hz': [0.02, 0.1,0.2, 0.07,0.1, 0.2], '1 kHz': [0.1, 0.1, 0.08, 0.1,  0.1, 0.1], \n",
    "           '2 kHz': [0.1, 0.04, 0.1, 0.2, 0.1, 0.1], '4 kHz': [0.1, 0.1, 0.1, 0.1, 0.02, 0.1]} # \n",
    "\n",
    "use = 'Musik'\n",
    "\n",
    "class room: \n",
    "    '''Class inheriting all functions for calculations and making plots.'''\n",
    "    def __init__(self, volume, surface, alpha, use):\n",
    "        '''Function to initialize the class room'''\n",
    "        self.input = {'Volume': volume, 'Surface': surface, 'Absorption coefficient': alpha}\n",
    "        self.volume = volume\n",
    "        self.surface = surface\n",
    "        self.alpha = alpha\n",
    "        self.use = use\n",
    "        \n",
    "    def equivalent_absorption_surface(self):\n",
    "        # '''Function to calculate the equivalent absorption surface.'''\n",
    "        # surface als list mit m^2 der einzelnen Waende\n",
    "        # alpha_d als dictionary mit Oktavbandfrequenzen als key und Liste der diffusen Absorptionsgrade pro Wand als value   \n",
    "        \n",
    "        # basic_dict() muss noch umgeschrieben werden {'125 Hz':0 , '250 Hz':0 , '500 Hz':0 , '1 kHz':0, '2 kHz':0 , '4 kHz':0 }\n",
    "        A = basic_dict()\n",
    "\n",
    "        for walls in range(len(self.surface)):\n",
    "            for octavebands in A:\n",
    "                alphaValuesList = self.alpha[octavebands]\n",
    "                A[octavebands] = A[octavebands] + self.surface[walls] * alphaValuesList[walls]\n",
    " \n",
    "        return A\n",
    "   \n",
    "    def reverberationTime(self):\n",
    "        '''Function to calculate the reverberation time.'''\n",
    "        reverberationTimeSeconds = basic_dict()\n",
    "        equivalentSurface = self.equivalent_absorption_surface()\n",
    "        for octavebands in equivalentSurface:\n",
    "            reverberationTimeSeconds[octavebands] = (self.volume / equivalentSurface[octavebands]) * 0.161\n",
    "        return reverberationTimeSeconds\n",
    "\n",
    "    def hallradius(self):\n",
    "        '''Function to calculate the distance, where direct and reflected sound are equal.'''\n",
    "        hallradius = np.sqrt(self.equivalent_absorption_surface() / 50)\n",
    "\n",
    "        return hallradius\n",
    "    \n",
    "    def reverberationTime_ratio(self):\n",
    "        '''Function to calculate the ratio of given reverberation time to wanted reverberation time. Wanted reverberation time is based on the rooms use case and its volume.'''\n",
    "        reverberationTime_ratio = basic_dict()\n",
    "        T_upperlimit = {'125 Hz':1.45 , '250 Hz':1.2 , '500 Hz':1.2 , '1 kHz':1.2, '2 kHz':1.2 , '4 kHz':1.2 }\n",
    "        T_lowerlimit = {'125 Hz':0.65 , '250 Hz':0.8 , '500 Hz':0.8 , '1 kHz':0.8, '2 kHz':0.8 , '4 kHz':0.65 }\n",
    "\n",
    "        # Pruefung welchen use (welche Nutzungsart nach DIN 18041) vorliegt und Berechnung der Soll-Nachhallzeit abhaengig vom Raumvolumen\n",
    "        if self.use == 'Musik':\n",
    "            T_soll = 0.45 * math.log10(self.volume) + 0.07\n",
    "\n",
    "        elif self.use == 'Sprache/Vortrag':\n",
    "            T_soll = 0.37 * math.log10(self.volume) - 0.14\n",
    "\n",
    "        elif self.use == 'Sprache/Vortrag inklusiv':    \n",
    "            T_soll = 0.32 * math.log10(self.volume) - 0.17\n",
    "\n",
    "        elif self.use == 'Unterricht/Kommunikation':\n",
    "            T_soll = 0.32 * math.log10(self.volume) - 0.17\n",
    "\n",
    "        elif self.use == 'Unterricht/Kommunikation inklusiv':\n",
    "            T_soll = 0.26 * math.log10(self.volume) - 0.14\n",
    "\n",
    "        elif self.use == 'Sport':\n",
    "                if self.volume > 10000:        \n",
    "                    T_soll = 2\n",
    "                else:\n",
    "                    T_soll = 0.75 * math.log10(self.volume) - 1\n",
    "\n",
    "        # Berechnung des Quotienten RT/RT_soll und Pruefung, ob berechnete Nachhallzeit in den Fehlerschranken nach Abbildung 2 in DIN 18041 liegt\n",
    "        for octavbands in self.reverberationTime():\n",
    "            reverberationTime_ratio[octavbands] = self.reverberationTime()[octavbands] / T_soll\n",
    "            if reverberationTime_ratio[octavbands] > T_upperlimit[octavbands]:\n",
    "                print(f'Nachhallzeit in Oktavband mit Mittenfrequenz {octavbands} zu hoch')\n",
    "            elif reverberationTime_ratio[octavbands] < T_lowerlimit[octavbands]:\n",
    "                print(f'Nachhallzeit in Oktavband mit Mittenfrequenz {octavbands} zu niedrig')      \n",
    "        return reverberationTime_ratio\n",
    "    \n",
    "    def plot_reverberationTime(self):\n",
    "        '''Function, which returns a plot of the reverberation time in octave bands.'''\n",
    "        freq = np.array([125,250,500,1000,2000,4000])\n",
    "        reverberationTimeSeconds = self.reverberationTime()\n",
    "\n",
    "        fig = go.Figure()\n",
    "\n",
    "        trace1 = go.Bar(x = freq, y = list(reverberationTimeSeconds.values()), marker_color = 'blue')\n",
    "        fig.add_trace(trace1)\n",
    "\n",
    "        fig.update_layout(xaxis_title = 'Frequenz [Hz]', yaxis_title = 'Nachhallzeit [s]', width = 1000, height = 600)\n",
    "        fig.update_xaxes(type='category')\n",
    "        fig.update_traces(width=.2)\n",
    "\n",
    "        return fig\n",
    "    \n",
    "    def plot_reverberationTime_ratio(self):\n",
    "        '''Function, which returns a plot of the calculated reverberation time in comparison to the wanted reverberation time and the allowed deviations in octave bands.'''\n",
    "        \n",
    "        freq = [125,250,500,1000,2000,4000]\n",
    "        \n",
    "        T_upperlimit = [1.45, 1.2, 1.2, 1.2, 1.2, 1.2]\n",
    "        T_lowerlimit = [0.65, 0.8, 0.8, 0.8, 0.8, 0.65]\n",
    "\n",
    "        reverberationTime_ratio = list(self.reverberationTime_ratio().values())\n",
    "\n",
    "        fig = go.Figure()\n",
    "        trace1 = go.Scatter(x = freq, y = T_lowerlimit, marker_color = 'green', mode='lines')\n",
    "        trace2 = go.Scatter(x = freq, y = T_upperlimit, marker_color = 'green', fill = 'tonexty', fillcolor='rgba(26, 199, 93, 0.1)', mode='lines')\n",
    "        trace3 = go.Bar(x = freq, y = reverberationTime_ratio, marker_color = 'blue')\n",
    "        \n",
    "        fig.update_xaxes(type='category')          \n",
    "        fig.update_layout(xaxis_title = 'Frequenz [Hz]', yaxis_title = 'T / T_soll', width = 1000, height = 600)\n",
    "        \n",
    "        fig.add_trace(trace3)\n",
    "        fig.update_traces(width=.2)\n",
    "        fig.add_trace(trace1)\n",
    "        fig.add_trace(trace2)\n",
    "       \n",
    "        return fig\n",
    "    \n",
    "room1 = room(volume , surface, alpha, use)\n",
    "\n",
    "room1.plot_reverberationTime()\n",
    "\n",
    "\n"
   ]
  },
  {
   "cell_type": "code",
   "execution_count": 4,
   "metadata": {},
   "outputs": [],
   "source": [
    "def basic_dict():\n",
    "    dictionary = {'125 Hz':0 , '250 Hz':0 , '500 Hz':0 , '1 kHz':0, '2 kHz':0 , '4 kHz':0 }\n",
    "    return dictionary\n",
    "\n",
    "def sub_alpha_dict(key_list_surfaces):\n",
    "    sub_alpha = basic_dict()\n",
    "    for octaveBands in sub_alpha:\n",
    "        sub_alpha[octaveBands] = {}\n",
    "        for surface_key in key_list_surfaces:\n",
    "            sub_alpha[octaveBands][surface_key] = []\n",
    "\n",
    "    return sub_alpha"
   ]
  },
  {
   "cell_type": "code",
   "execution_count": 5,
   "metadata": {},
   "outputs": [
    {
     "data": {
      "text/plain": [
       "{'125 Hz': {'Wall1': [], 'Wall2': []},\n",
       " '250 Hz': {'Wall1': [], 'Wall2': []},\n",
       " '500 Hz': {'Wall1': [], 'Wall2': []},\n",
       " '1 kHz': {'Wall1': [], 'Wall2': []},\n",
       " '2 kHz': {'Wall1': [], 'Wall2': []},\n",
       " '4 kHz': {'Wall1': [], 'Wall2': []}}"
      ]
     },
     "execution_count": 5,
     "metadata": {},
     "output_type": "execute_result"
    }
   ],
   "source": [
    "sub_alpha_dict(['Wall1', 'Wall2'])"
   ]
  }
 ],
 "metadata": {
  "kernelspec": {
   "display_name": "base",
   "language": "python",
   "name": "python3"
  },
  "language_info": {
   "codemirror_mode": {
    "name": "ipython",
    "version": 3
   },
   "file_extension": ".py",
   "mimetype": "text/x-python",
   "name": "python",
   "nbconvert_exporter": "python",
   "pygments_lexer": "ipython3",
   "version": "3.11.3"
  },
  "orig_nbformat": 4
 },
 "nbformat": 4,
 "nbformat_minor": 2
}
